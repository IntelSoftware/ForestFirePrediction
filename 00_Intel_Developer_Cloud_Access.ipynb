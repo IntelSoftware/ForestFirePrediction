{
 "cells": [
  {
   "cell_type": "markdown",
   "id": "83518026-9dbe-491d-ba24-43b28984460e",
   "metadata": {},
   "source": [
    "# Intel(R) Developer Cloud Beta Setup\n",
    "\n",
    "This workshop is best experienced using Intel Developer Cloud.\n",
    "\n",
    "## To Access via Intel(R) Developer Cloud:\n",
    "\n",
    "#### IDC Access\n",
    "- [First follow the IDC registration and login process](https://github.com/bjodom/idc)\n",
    "\n",
    "#### Preparing Workshop environment, code, and data\n",
    "\n",
    "- [Follow the github code installation steps in this README.md](https://github.com/IntelSoftware/ForestFirePrediction)\n",
    "- srun --pty bash\n",
    "- source /opt/intel/oneapi/setvars.sh\n",
    "- git clone https://github.com/IntelSoftware/ForestFirePrediction.git\n",
    "- cd ForestFirePrediction\n",
    "- . lab-setup.sh\n",
    "- conda activate PT\n",
    "- jupyter-lab --ip 10.10.10.2X           # X is  the node number you were assigned, so double it!\n",
    "- (from another terminal - set up port tunneling)\n",
    "- (ssh idcbeta -L 8888:10.10.10.2X:8888)  # X is  the node number you were assigned, so double it!\n",
    "- Launch the README.md to navigate\n",
    "  "
   ]
  },
  {
   "cell_type": "markdown",
   "id": "d1bf16c0-522d-4155-9b81-ec1fea985dc7",
   "metadata": {},
   "source": [
    "## Notices and Disclaimers\n",
    "\n",
    "Intel technologies may require enabled hardware, software or service activation.\n",
    "\n",
    "No product or component can be absolutely secure. \n",
    "\n",
    "Your costs and results may vary. \n",
    "\n",
    "© Intel Corporation. Intel, the Intel logo, and other Intel marks are trademarks of Intel Corporation or its subsidiaries. Other names and brands may be claimed as the property of others. "
   ]
  },
  {
   "cell_type": "code",
   "execution_count": null,
   "id": "ee5ef57d-4815-41c3-9b23-b93cbf2736a9",
   "metadata": {},
   "outputs": [],
   "source": []
  }
 ],
 "metadata": {
  "kernelspec": {
   "display_name": "Python 3 (ipykernel)",
   "language": "python",
   "name": "python3"
  },
  "language_info": {
   "codemirror_mode": {
    "name": "ipython",
    "version": 3
   },
   "file_extension": ".py",
   "mimetype": "text/x-python",
   "name": "python",
   "nbconvert_exporter": "python",
   "pygments_lexer": "ipython3",
   "version": "3.10.11"
  }
 },
 "nbformat": 4,
 "nbformat_minor": 5
}
