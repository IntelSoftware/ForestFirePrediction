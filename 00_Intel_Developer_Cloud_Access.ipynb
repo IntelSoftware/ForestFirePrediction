{
 "cells": [
  {
   "cell_type": "markdown",
   "id": "83518026-9dbe-491d-ba24-43b28984460e",
   "metadata": {},
   "source": [
    "# Intel(R) Developer Cloud Beta Setup\n",
    "\n",
    "This workshop is best experienced using Intel Developer Cloud\n",
    "\n",
    "[see access and configuration instructions here...](https://github.com/bjodom/idc)"
   ]
  },
  {
   "cell_type": "code",
   "execution_count": null,
   "id": "9faa70dc-0b26-4f0b-b2f5-bda1809fd348",
   "metadata": {},
   "outputs": [],
   "source": []
  }
 ],
 "metadata": {
  "kernelspec": {
   "display_name": "Python 3 (Intel® oneAPI 2023.2)",
   "language": "python",
   "name": "c009-intel_distribution_of_python_3_oneapi-beta05-python"
  },
  "language_info": {
   "codemirror_mode": {
    "name": "ipython",
    "version": 3
   },
   "file_extension": ".py",
   "mimetype": "text/x-python",
   "name": "python",
   "nbconvert_exporter": "python",
   "pygments_lexer": "ipython3",
   "version": "3.9.16"
  }
 },
 "nbformat": 4,
 "nbformat_minor": 5
}
