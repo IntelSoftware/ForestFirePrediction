{
 "cells": [
  {
   "cell_type": "markdown",
   "id": "83518026-9dbe-491d-ba24-43b28984460e",
   "metadata": {},
   "source": [
    "# Intel(R) Developer Cloud Beta Setup\n",
    "\n",
    "This workshop is best experienced using Intel Developer Cloud.\n",
    "\n",
    "\n",
    "[see access and configuration instructions here...](https://github.com/bjodom/idc)"
   ]
  },
  {
   "cell_type": "markdown",
   "id": "d1bf16c0-522d-4155-9b81-ec1fea985dc7",
   "metadata": {},
   "source": []
  }
 ],
 "metadata": {
  "kernelspec": {
   "display_name": "Python 3 (ipykernel)",
   "language": "python",
   "name": "python3"
  },
  "language_info": {
   "codemirror_mode": {
    "name": "ipython",
    "version": 3
   },
   "file_extension": ".py",
   "mimetype": "text/x-python",
   "name": "python",
   "nbconvert_exporter": "python",
   "pygments_lexer": "ipython3",
   "version": "3.10.10"
  }
 },
 "nbformat": 4,
 "nbformat_minor": 5
}
