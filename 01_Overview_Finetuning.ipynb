{
 "cells": [
  {
   "cell_type": "markdown",
   "id": "e9248418-5829-4124-889e-a6414be78aa5",
   "metadata": {},
   "source": [
    "![assets/ForestFireCartoon.jpg](assets/ForestFireCartoon.jpg)"
   ]
  },
  {
   "cell_type": "markdown",
   "id": "c2a05632-98e4-4de3-8b75-eb070ec93ed7",
   "metadata": {},
   "source": [
    "# Overview of Finetuning Project\n",
    "\n",
    "The purpose of this series of notebooks on Finetuning is to experiment with using aerial photos as a basis for predicting forest fire likelyhood based on the Modis datasets using Google Earth Engine Modis data and USDA/NAIP/DOQQ aerial photos - all from within the State of California\n",
    "\n",
    "For this workshop, however, in order to provide the data for the lab, we have provided sythetic data.\n",
    "\n",
    "The discussion that follows in this notebookl, is from actual data from NAIP from 2016-2017 and the MODIS data is filtered to show the fires in CA from 2018 thru 2020.\n",
    "\n",
    "\n"
   ]
  },
  {
   "cell_type": "markdown",
   "id": "2ba344f8-0aed-4755-a1d6-f409a1823dd5",
   "metadata": {
    "tags": []
   },
   "source": [
    "# Sampling Method\n",
    "\n",
    "I used the Modis datasets to identify which regions in CA had been burned in forest fires in the period from 2018 to 2020.\n",
    "\n",
    "I then collected images from these same regions from the period 2016 to end of 2017 and used the pre-burn images from both known fire and non-fire regions to make a resnet 18 binary model to predict Fire or NoFire for a given image.\n",
    "\n",
    "The sampling index map is displayed below for both the FIre and NoFire cases showing the locations we sampled with aerial photos\n",
    "\n",
    "## Fire Samples\n",
    "I sampled the MODIS regions by \"human random\" means to simply identify the ;attitudes and longitudes of Both Fire and NoFire regions. The MODIS burn area are the Red polygons, the cyan pins are my intended sample locations.\n",
    "\n",
    "<img src=\"assets/CA Burn areas 2018 to 2021 sampled.png\" width=\"800\"/>\n",
    "\n",
    "## NoFire Samples\n",
    "I sampled the MODIS regions by \"human random\" means. The MODIS burn area are the Red polygons, the darker blue/teal pins are my intended sample locations\n",
    "\n",
    "<img src=\"assets/CA No Burn areas 2018 to 2020 sampled.png\" width=\"800\"/>"
   ]
  },
  {
   "cell_type": "markdown",
   "id": "696b087d-a053-460d-9d93-d838e04b9cab",
   "metadata": {},
   "source": [
    "## Notices and Disclaimers\n",
    "\n",
    "Intel technologies may require enabled hardware, software or service activation.\n",
    "\n",
    "No product or component can be absolutely secure. \n",
    "\n",
    "Your costs and results may vary. \n",
    "\n",
    "© Intel Corporation. Intel, the Intel logo, and other Intel marks are trademarks of Intel Corporation or its subsidiaries. Other names and brands may be claimed as the property of others. "
   ]
  },
  {
   "cell_type": "markdown",
   "id": "4c29e324-92df-4993-85c3-08237314540b",
   "metadata": {},
   "source": []
  },
  {
   "cell_type": "code",
   "execution_count": null,
   "id": "28f2eb46-c2a6-479f-bcec-9c498142af52",
   "metadata": {},
   "outputs": [],
   "source": []
  }
 ],
 "metadata": {
  "kernelspec": {
   "display_name": "Python 3 (ipykernel)",
   "language": "python",
   "name": "python3"
  },
  "language_info": {
   "codemirror_mode": {
    "name": "ipython",
    "version": 3
   },
   "file_extension": ".py",
   "mimetype": "text/x-python",
   "name": "python",
   "nbconvert_exporter": "python",
   "pygments_lexer": "ipython3",
   "version": "3.10.11"
  }
 },
 "nbformat": 4,
 "nbformat_minor": 5
}
