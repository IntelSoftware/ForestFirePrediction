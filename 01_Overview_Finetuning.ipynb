{
 "cells": [
  {
   "cell_type": "markdown",
   "id": "c2a05632-98e4-4de3-8b75-eb070ec93ed7",
   "metadata": {},
   "source": [
    "# Overview of Finetuning Project\n",
    "\n",
    "The purpose of this series of notebooks on Finetuning is to experiment with using aerial photos as a basis for predicting forest fire likelyhood based on the Modis datasets using Google Earth Engine Modis data and USDA/NAIP/DOQQ aerial photos - all from within the State of California\n",
    "\n",
    "\n"
   ]
  },
  {
   "cell_type": "markdown",
   "id": "2ba344f8-0aed-4755-a1d6-f409a1823dd5",
   "metadata": {
    "tags": []
   },
   "source": [
    "# Sampling Method\n",
    "\n",
    "I used the Modis datasets to identify which regions in CA had been burned in forest fires in the period from 2018 to 2020.\n",
    "\n",
    "I then collected images from these same regions from the period 2016 to end of 2017 and used the pre-burn images from both known fire and non-fire regions to make a resnet 18 binary model to predict Fire or NoFire for a given image.\n",
    "\n",
    "The sampling index map is displayed below for both the FIre and NoFire cases showing the locations we sampled with aerial photos\n",
    "\n",
    "## Fire Samples\n",
    "<img src=\"CA Burn areas 2018 to 2021 sampled.png\" width=\"800\"/>\n",
    "\n",
    "## NoFire Samples\n",
    "<img src=\"CA No Burn areas 2018 to 2020 sampled.png\" width=\"800\"/>"
   ]
  },
  {
   "cell_type": "markdown",
   "id": "696b087d-a053-460d-9d93-d838e04b9cab",
   "metadata": {},
   "source": [
    "## Notices and Disclaimers\n",
    "\n",
    "Intel technologies may require enabled hardware, software or service activation.\n",
    "\n",
    "No product or component can be absolutely secure. \n",
    "\n",
    "Your costs and results may vary. \n",
    "\n",
    "© Intel Corporation. Intel, the Intel logo, and other Intel marks are trademarks of Intel Corporation or its subsidiaries. Other names and brands may be claimed as the property of others. "
   ]
  },
  {
   "cell_type": "markdown",
   "id": "4c29e324-92df-4993-85c3-08237314540b",
   "metadata": {},
   "source": []
  }
 ],
 "metadata": {
  "kernelspec": {
   "display_name": "Python 3 (Intel® oneAPI 2023.1)",
   "language": "python",
   "name": "c009-intel_distribution_of_python_3_oneapi-beta05-python"
  },
  "language_info": {
   "codemirror_mode": {
    "name": "ipython",
    "version": 3
   },
   "file_extension": ".py",
   "mimetype": "text/x-python",
   "name": "python",
   "nbconvert_exporter": "python",
   "pygments_lexer": "ipython3",
   "version": "3.9.16"
  }
 },
 "nbformat": 4,
 "nbformat_minor": 5
}
