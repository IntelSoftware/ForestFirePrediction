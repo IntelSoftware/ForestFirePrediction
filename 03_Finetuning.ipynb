{
 "cells": [
  {
   "cell_type": "markdown",
   "id": "4e8dd31e-d502-4f69-9614-90b3914e7e80",
   "metadata": {},
   "source": [
    "# Fine-tuning\n",
    "\n",
    "This notebook will use a pre-trained ResNet 18 model to train a new set of images the have been used to predict the 2018 \"Campfire\" set of fire during the 2018 California fire season - based on 2016 and 2017 aerial photos.\n",
    "\n",
    "These aerial photos are stored in a folder structure  as follows:\n",
    "\n",
    "### Folder structure for images\n",
    "<figure>\n",
    "<img src=\"assets/FolderStructure.jpg\" width=\"400\">\n",
    "<figcaption align = \"center\">  </figcaption>\n",
    "</figure>\n",
    "\n",
    "Due to the sort order, 'Fire' comes before 'NoFire' so the class index is as follows:\n",
    "\n",
    "- 0: Fire\n",
    "- 1: NoFire\n",
    "\n",
    "While I have created a custom kernel for this class to access the GPU - there is a standard kernel Intel provides (without the support libraries such as pandas, and seaborn, etc) called **pytorch_xpu** that I would recommend for quick testing of a PyTorch model.\n"
   ]
  },
  {
   "cell_type": "markdown",
   "id": "99241756-3ccd-44be-a17b-d334a6694b2d",
   "metadata": {},
   "source": [
    "## Fine-tuning is awesome! \n",
    "\n",
    "<figure>\n",
    "<img src=\"assets/fine_tuning.png\" width=\"800\">\n",
    "<figcaption align = \"center\"> Figure 1. Fine-tuning in a nutshell. </figcaption>\n",
    "</figure>\n",
    "\n",
    "Fine-tuning allows me to train a small number of iterations of a small number of images to create a custom model quickly.  It does this by freezing most of the layers of a pre-trained model such as ResNet and allowing me to train just the very last layers.\n",
    "\n",
    "As a result, this notebook can be run quite fast on Intel(r) 4th generation Xeon(r) Scalable processors!  But it can also be run even faster on out Intel(r) 1100 GPU MAX Series GPU.\n",
    "\n",
    "I will be demonstrating how to train against the new Intel(r) GPUs in this exercise - taking advantage of a key ingredient supplied by the Intel(R) Extensions for PyTorch\n",
    "\n",
    "\n"
   ]
  },
  {
   "cell_type": "markdown",
   "id": "9819bd27-eb98-4ee2-916b-0d264f6251ce",
   "metadata": {},
   "source": [
    "Click here to learn more about [Accelerating PyTorch* with Intel® Extension for PyTorch](https://www.intel.com/content/www/us/en/developer/articles/technical/accelerate-with-intel-extension-for-pytorch.htm) \n",
    "\n",
    "# Intel(r) Extension for PyTorch*\n",
    "\n",
    "### Extends PyTorch:\n",
    "- The Intel® Extension for PyTorch* for GPU extends PyTorch with up-to-date features and optimizations for an extra performance boost on Intel Graphics cards.\n",
    "- Intel releases its newest optimizations and features in Intel® Extension for PyTorch* before up-streaming them into open source PyTorch.\n",
    "- There are two versions of Intel Extensions for PyTorch:\n",
    "  1) for XPU\n",
    "  2) for CPU\n",
    "- [Intel(r) Extension for PyTorch](https://www.intel.com/content/www/us/en/developer/articles/technical/introducing-intel-extension-for-pytorch-for-gpus.html#gs.3y2glt)\n",
    "\n",
    "\n",
    "### Inference Cheat-sheet:\n",
    "\n",
    "| **Inference on CPU** | **Inference on XPU** |\n",
    "| --- | --- |\n",
    "| ![Inference CPU](assets/IPEX_Inference_CPU.png) | ![Inference XPU](assets/IPEX_Inference_XPU.png) |"
   ]
  },
  {
   "cell_type": "markdown",
   "id": "8bdea89b-cc1b-4f52-b6bb-ba964f83e1e9",
   "metadata": {},
   "source": [
    "\n",
    "## Summary of advantage of fine-tuning\n",
    "\n",
    "- Target datasets are much smaller than source datasets\n",
    "\n",
    "- Fine-tuning helps to improve the model's generalization ability.\n",
    "\n",
    "- Can be trained faster with fewer resources and fewer images."
   ]
  },
  {
   "cell_type": "markdown",
   "id": "9db48314-3be8-4c9b-9311-51220c48a257",
   "metadata": {},
   "source": [
    "## Exercise 1: import\n",
    "### Hint: replace broken code line with this code:\n",
    "\n",
    "```python\n",
    "import intel_extension_for_pytorch\n",
    "```"
   ]
  },
  {
   "cell_type": "code",
   "execution_count": 2,
   "id": "20937d85-1fc7-4204-9a52-58881711e56a",
   "metadata": {},
   "outputs": [],
   "source": [
    "# %load fine_tune.py\n",
    "import os\n",
    "#os.environ[\"WANDB_DIR\"] = \"wandb_logs/\"\n",
    "#import pathlib\n",
    "import warnings\n",
    "#import random\n",
    "import time\n",
    "import gc\n",
    "from typing import Tuple\n",
    "#import glob\n",
    "from PIL import Image\n",
    "from os.path import exists\n",
    "import os\n",
    "warnings.filterwarnings(\"ignore\")\n",
    "\n",
    "import torch\n",
    "#****************************************\n",
    "import intel_extension_for_pytorch\n",
    "#Insert code for Intel Extensions for PyTorch Here\n",
    "#****************************************\n",
    "import numpy as np\n",
    "import matplotlib.pyplot as plt\n",
    "#import wandb\n",
    "import seaborn\n",
    "from torchvision import datasets, transforms\n",
    "from torch.utils.data import DataLoader, Dataset\n",
    "\n",
    "from batch_finder import optimum_batch_size\n",
    "from config import set_seed, device\n",
    "from data_loader import (\n",
    "    TRAIN_DIR,\n",
    "    VALID_DIR,\n",
    "    augment_and_save,\n",
    "    data_distribution,\n",
    "    imagenet_stats,\n",
    "    img_transforms,\n",
    "    plot_data_distribution,\n",
    "    show_data,\n",
    ")\n",
    "from metrics import Metrics\n",
    "from model import FireFinder\n",
    "from trainer import Trainer\n",
    "from lr_finder import LearningRateFinder\n",
    "from torch import optim\n",
    "\n",
    "\n",
    "\n",
    "def create_dataloader(\n",
    "    directory: str, batch_size: int, shuffle: bool = False, transform=None\n",
    ") -> DataLoader:\n",
    "    \"\"\"\n",
    "    Create a DataLoader from a directory of images.\n",
    "\n",
    "    Args:\n",
    "        directory (str): Directory containing images.\n",
    "        batch_size (int): Batch size for the DataLoader.\n",
    "        shuffle (bool, optional): Whether to shuffle the data. Defaults to False.\n",
    "        transform ([type], optional): Transformations to apply to the images. Defaults to None.\n",
    "\n",
    "    Returns:\n",
    "        DataLoader: DataLoader with images from the directory.\n",
    "    \"\"\"\n",
    "    data = datasets.ImageFolder(directory, transform=transform)\n",
    "    return DataLoader(data, batch_size=batch_size, shuffle=shuffle)\n",
    "\n",
    "\n",
    "def setup_dataloaders(config: dict) -> Tuple[DataLoader, DataLoader]:\n",
    "    \"\"\"\n",
    "    Setup train and validation DataLoaders.\n",
    "\n",
    "    Args:\n",
    "        config (dict): Configuration dictionary containing batch_size.\n",
    "\n",
    "    Returns:\n",
    "        Tuple[DataLoader, DataLoader]: A tuple containing train and validation dataloaders.\n",
    "    \"\"\"\n",
    "    return create_dataloader(\n",
    "        TRAIN_DIR, config[\"batch_size\"], shuffle=True, transform=img_transforms[\"train\"]\n",
    "    ), create_dataloader(\n",
    "        VALID_DIR, config[\"batch_size\"], transform=img_transforms[\"valid\"]\n",
    "    )\n",
    "\n",
    "\n",
    "def find_lr(model: FireFinder, optimizer: optim.Adam, dataloader: DataLoader) -> float:\n",
    "    \"\"\"\n",
    "    Find best learning rate using Learning Rate Finder.\n",
    "\n",
    "    Args:\n",
    "        model (FireFinder): FireFinder model.\n",
    "        optimizer (optim.Adam): Adam optimizer.\n",
    "        dataloader (DataLoader): DataLoader with training data.\n",
    "\n",
    "    Returns:\n",
    "        float: Best learning rate.\n",
    "    \"\"\"\n",
    "    lr_finder = LearningRateFinder(model, optimizer, device)\n",
    "    best_lr = lr_finder.lr_range_test(dataloader, start_lr=1e-2, end_lr=1e-5)\n",
    "    return best_lr\n",
    "\n",
    "\n",
    "def train(model: FireFinder, trainer: Trainer, config: dict):\n",
    "    \"\"\"\n",
    "    Train a FireFinder model.\n",
    "\n",
    "    Args:\n",
    "        model (FireFinder): FireFinder model.\n",
    "        trainer (Trainer): Trainer to train the model.\n",
    "        config (dict): Configuration dictionary containing learning rate and batch size.\n",
    "    \"\"\"\n",
    "    train_dataloader, valid_dataloader = setup_dataloaders(config)\n",
    "    print(\"training data\")\n",
    "    plot_data_distribution(data_distribution(train_dataloader.dataset, TRAIN_DIR))\n",
    "    print(\"\\nvalidation data\")\n",
    "    plot_data_distribution(data_distribution(valid_dataloader.dataset, VALID_DIR))\n",
    "    print(f\"______________\")\n",
    "    start = time.time()\n",
    "    val_acc = trainer.fine_tune(train_dataloader, valid_dataloader)\n",
    "    model_save_path = f\"./models/model_acc_{val_acc}_device_{device}_lr_{trainer.lr}_epochs_{EPOCHS}.pt\"\n",
    "    torch.save(model.state_dict(), model_save_path)\n",
    "\n",
    "    model.eval()\n",
    "    with torch.no_grad():\n",
    "        model_scripted = torch.jit.script(model)  # Export to TorchScript\n",
    "        model_scripted.save(f\"{model_save_path.replace('.pt','_jit.pt')}\")  # Jit Save\n",
    "\n",
    "    print(f\"Model saved to :{model_save_path}\")\n",
    "    print(f\"Time elapsed: {time.time() - start} seconds.\")\n",
    "    return (model_save_path)"
   ]
  },
  {
   "cell_type": "markdown",
   "id": "9301b26b-8af5-4554-bb4b-219d3b4bca86",
   "metadata": {},
   "source": [
    "# Exercise 2A: Add `_to_ipex` method to Trainer Class located in **`trainer.py`**\n",
    "\n",
    "Replace Broken code with:\n",
    "\n",
    "```python\n",
    "#*************************** Exercise 2 ***************************************\n",
    "    def _to_ipex(self, dtype=torch.float32):\n",
    "        \"\"\"convert model memory format to channels_last to IPEX format.\"\"\"\n",
    "        self.model.train()\n",
    "        self.model = self.model.to(memory_format=torch.channels_last)\n",
    "        self.model, self.optimizer = ipex.optimize(\n",
    "            self.model, optimizer=self.optimizer, dtype=torch.float32\n",
    "        )\n",
    "#******************************************************************************\n",
    "```\n"
   ]
  },
  {
   "cell_type": "markdown",
   "id": "7fc2991e-8829-4cb9-8db1-052a17ce2ea6",
   "metadata": {},
   "source": [
    "# Exercise 2B: Set device to \"xpu\" located in **config.py**\n",
    "\n",
    "- Edit \"config.py\" line 97\n",
    "\n",
    "```pytorch\n",
    "device = set_device(\"xpu\")\n",
    "```"
   ]
  },
  {
   "cell_type": "code",
   "execution_count": null,
   "id": "f2adb0fe-8502-4e1d-8216-846eed4f1785",
   "metadata": {},
   "outputs": [],
   "source": []
  },
  {
   "cell_type": "markdown",
   "id": "64933a26-4be9-466b-9153-6614f3b44773",
   "metadata": {},
   "source": [
    "# Training the model"
   ]
  },
  {
   "cell_type": "code",
   "execution_count": null,
   "id": "8ac78f28-1721-4bcf-b856-2b88564ff949",
   "metadata": {},
   "outputs": [
    {
     "name": "stdout",
     "output_type": "stream",
     "text": [
      "Train folder data/colorEnhanced/train\n",
      "Validation folder data/colorEnhanced/val\n",
      "Using epoch: 10\n",
      "Using Dropout: 0.3\n"
     ]
    },
    {
     "name": "stderr",
     "output_type": "stream",
     "text": [
      "Downloading: \"https://download.pytorch.org/models/resnet18-f37072fd.pth\" to /home/u9999ad7367849478acc6568ce06912b/.cache/torch/hub/checkpoints/resnet18-f37072fd.pth\n",
      "100%|██████████| 44.7M/44.7M [00:00<00:00, 95.7MB/s]\n"
     ]
    },
    {
     "name": "stdout",
     "output_type": "stream",
     "text": [
      "Running in Finetuning mode.\n",
      "Using batch size: 64\n",
      "Using learning rate: 0.000214\n",
      "Running in Finetuning mode.\n",
      "training data\n"
     ]
    },
    {
     "data": {
      "image/png": "[encoded data removed]",
      "text/plain": [
       "<Figure size 640x480 with 1 Axes>"
      ]
     },
     "metadata": {},
     "output_type": "display_data"
    },
    {
     "name": "stdout",
     "output_type": "stream",
     "text": [
      "\n",
      "validation data\n"
     ]
    },
    {
     "data": {
      "image/png": "[encoded data removed]",
      "text/plain": [
       "<Figure size 640x480 with 1 Axes>"
      ]
     },
     "metadata": {},
     "output_type": "display_data"
    },
    {
     "name": "stdout",
     "output_type": "stream",
     "text": [
      "______________\n"
     ]
    },
    {
     "name": "stderr",
     "output_type": "stream",
     "text": [
      "100%|██████████| 4/4 [02:01<00:00, 30.34s/it]\n",
      "100%|██████████| 1/1 [00:23<00:00, 23.35s/it]\n"
     ]
    },
    {
     "name": "stdout",
     "output_type": "stream",
     "text": [
      "\n",
      "📅 Epoch 1/10:\n",
      "\t🏋️‍♂️ Training step:\n",
      "\t - 🎯 Loss: 0.3979, 📈 Accuracy: 0.7650\n",
      "\t🧪 Validation step:\n",
      "\t - 🎯 Loss: 0.2498, 📈 Accuracy: 0.9200\n",
      "⏱️ Time: 144.7226 sec\n",
      "\n"
     ]
    },
    {
     "name": "stderr",
     "output_type": "stream",
     "text": [
      "100%|██████████| 4/4 [01:17<00:00, 19.39s/it]\n",
      "  0%|          | 0/1 [00:00<?, ?it/s]"
     ]
    }
   ],
   "source": [
    "# hyper params\n",
    "EPOCHS = 10\n",
    "DROPOUT = .3\n",
    "# LR would be changed if we are using a LR finder\n",
    "LR = 2.14e-4\n",
    "#LR = 3.e-3\n",
    "TEST_DIR = 'data/colorEnhanced/'\n",
    "BATCH_SIZE = 64 #128  # Default batch size\n",
    "\n",
    "aug_data = False\n",
    "find_batch = False\n",
    "find_lr_rate = False\n",
    "#use_wandb = False\n",
    "use_ipex=True\n",
    "\n",
    "set_seed(42)\n",
    "print(f\"Train folder {TRAIN_DIR}\")\n",
    "print(f\"Validation folder {VALID_DIR}\")\n",
    "print(f\"Using epoch: {EPOCHS}\")\n",
    "print(f\"Using Dropout: {DROPOUT}\")\n",
    "\n",
    "batch_size = BATCH_SIZE\n",
    "\n",
    "if aug_data:\n",
    "    print(\"Augmenting training and validation datasets...\")\n",
    "    t1 = time.time()\n",
    "    augment_and_save(TRAIN_DIR)\n",
    "    augment_and_save(VALID_DIR)\n",
    "    print(f\"Done Augmenting in {time.time() - t1} seconds...\")\n",
    "\n",
    "model = FireFinder(simple=True, dropout=DROPOUT)\n",
    "optimizer = optim.Adam(model.parameters(), lr=LR)\n",
    "if find_batch:\n",
    "    print(f\"Finding optimum batch size...\")\n",
    "    batch_size = optimum_batch_size(model, input_size=(3, 224, 224))\n",
    "print(f\"Using batch size: {batch_size}\")\n",
    "\n",
    "best_lr = LR\n",
    "if find_lr_rate:\n",
    "    print(\"Finding best init lr...\")\n",
    "    train_dataloader = create_dataloader(\n",
    "        TRAIN_DIR,\n",
    "        batch_size=batch_size,\n",
    "        shuffle=True,\n",
    "        transform=img_transforms[\"train\"],\n",
    "    )\n",
    "    best_lr = find_lr(model, optimizer, train_dataloader)\n",
    "    del model, optimizer\n",
    "    gc.collect()\n",
    "    if device == torch.device(\"xpu\"):\n",
    "        torch.xpu.empty_cache()\n",
    "print(f\"Using learning rate: {best_lr}\")\n",
    "\n",
    "model = FireFinder(simple=True, dropout=DROPOUT)\n",
    "trainer = Trainer(\n",
    "    model=model,\n",
    "    optimizer=optim.Adam,\n",
    "    lr=best_lr,\n",
    "    epochs=EPOCHS,\n",
    "    device=device,\n",
    "    #use_wandb=use_wandb,\n",
    "    use_ipex=use_ipex,  # using ipex or not depending on this flag\n",
    ")\n",
    "model_save_path = train(model, trainer, config={\"lr\": best_lr, \"batch_size\": batch_size})"
   ]
  },
  {
   "cell_type": "code",
   "execution_count": null,
   "id": "767f2584-ecc6-4d44-a512-77acad0ab660",
   "metadata": {},
   "outputs": [],
   "source": [
    "print(\"Done!\")"
   ]
  },
  {
   "cell_type": "markdown",
   "id": "e248d4c2-f5d4-4768-83c8-8aa21745fc6d",
   "metadata": {},
   "source": [
    "## Notices and Disclaimers\n",
    "\n",
    "Intel technologies may require enabled hardware, software or service activation.\n",
    "\n",
    "No product or component can be absolutely secure. \n",
    "\n",
    "Your costs and results may vary. \n",
    "\n",
    "© Intel Corporation. Intel, the Intel logo, and other Intel marks are trademarks of Intel Corporation or its subsidiaries. Other names and brands may be claimed as the property of others. "
   ]
  },
  {
   "cell_type": "code",
   "execution_count": null,
   "id": "51ad28ff-510e-495b-86f0-05f5f2a97818",
   "metadata": {},
   "outputs": [],
   "source": []
  },
  {
   "cell_type": "code",
   "execution_count": null,
   "id": "621bb714-a733-4166-acab-0f5b72e2f3e4",
   "metadata": {},
   "outputs": [],
   "source": []
  },
  {
   "cell_type": "code",
   "execution_count": null,
   "id": "5b031c18-af26-45be-be23-face89f5336b",
   "metadata": {},
   "outputs": [],
   "source": []
  },
  {
   "cell_type": "code",
   "execution_count": null,
   "id": "10d22115-1442-4e2b-91d8-3dcb7d200b3e",
   "metadata": {},
   "outputs": [],
   "source": []
  }
 ],
 "metadata": {
  "kernelspec": {
   "display_name": "pytorch-gpu",
   "language": "python",
   "name": "pytorch-gpu"
  },
  "language_info": {
   "codemirror_mode": {
    "name": "ipython",
    "version": 3
   },
   "file_extension": ".py",
   "mimetype": "text/x-python",
   "name": "python",
   "nbconvert_exporter": "python",
   "pygments_lexer": "ipython3",
   "version": "3.9.16"
  }
 },
 "nbformat": 4,
 "nbformat_minor": 5
}
