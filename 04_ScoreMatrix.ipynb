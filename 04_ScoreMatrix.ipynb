{
 "cells": [
  {
   "cell_type": "markdown",
   "id": "1ef6809f-b4e1-4e33-a549-1a00ae11ec84",
   "metadata": {},
   "source": [
    "# Score Matrix\n",
    "\n",
    "Use model to generate confusion matrix\n",
    "\n"
   ]
  },
  {
   "cell_type": "code",
   "execution_count": 1,
   "id": "9fc2d53e-30c5-49c6-9c8b-173a6ae048de",
   "metadata": {},
   "outputs": [
    {
     "name": "stderr",
     "output_type": "stream",
     "text": [
      "/home/u103128/.conda/envs/PT3/lib/python3.10/site-packages/tqdm/auto.py:22: TqdmWarning: IProgress not found. Please update jupyter and ipywidgets. See https://ipywidgets.readthedocs.io/en/stable/user_install.html\n",
      "  from .autonotebook import tqdm as notebook_tqdm\n",
      "/home/u103128/.conda/envs/PT3/lib/python3.10/site-packages/torchvision/io/image.py:13: UserWarning: Failed to load image Python extension: \n",
      "  warn(f\"Failed to load image Python extension: {e}\")\n",
      "2023-08-09 14:43:59,751 - numexpr.utils - INFO - Note: detected 224 virtual cores but NumExpr set to maximum of 64, check \"NUMEXPR_MAX_THREADS\" environment variable.\n",
      "2023-08-09 14:43:59,752 - numexpr.utils - INFO - Note: NumExpr detected 224 cores but \"NUMEXPR_MAX_THREADS\" not set, so enforcing safe limit of 8.\n",
      "2023-08-09 14:43:59,752 - numexpr.utils - INFO - NumExpr defaulting to 8 threads.\n"
     ]
    },
    {
     "name": "stdout",
     "output_type": "stream",
     "text": [
      "Device set to xpu by user.\n",
      "OMP_NUM_THREADS set to: 112\n"
     ]
    }
   ],
   "source": [
    "import intel_extension_for_pytorch as ipex\n",
    "import matplotlib.pyplot as plt\n",
    "import numpy as np\n",
    "#import psutil\n",
    "import seaborn as sns\n",
    "import torch\n",
    "import torch.nn as nn\n",
    "import torchvision.models as models\n",
    "from torch.utils.data import DataLoader\n",
    "from torchvision import datasets, models, transforms\n",
    "#from tqdm import tqdm\n",
    "from PIL import Image\n",
    "from data_loader import (\n",
    "    TRAIN_DIR,\n",
    "    VALID_DIR,\n",
    "    augment_and_save,\n",
    "    data_distribution,\n",
    "    imagenet_stats,\n",
    "    img_transforms,\n",
    "    plot_data_distribution,\n",
    "    show_data,\n",
    ")\n",
    "sns.set_theme(style=\"whitegrid\", palette=\"husl\")"
   ]
  },
  {
   "cell_type": "code",
   "execution_count": null,
   "id": "d2917d08-7ae8-42b8-b061-d7dd8b1e8212",
   "metadata": {},
   "outputs": [],
   "source": []
  },
  {
   "cell_type": "markdown",
   "id": "237c0d8f-bef7-412a-8261-ef13592045e1",
   "metadata": {},
   "source": [
    "# Specify Model to test"
   ]
  },
  {
   "cell_type": "code",
   "execution_count": 2,
   "id": "b9c6e456-a8b0-45c5-9991-ff74ea0a5381",
   "metadata": {},
   "outputs": [],
   "source": [
    "# simple = False\n",
    "# epochs = 12\n",
    "# ipx = True \n",
    "# dropout = .5\n",
    "# batch_size = 128\n",
    "# # bc_resnet18_simpleFalse_IPEXTrue_Epochs12_dropout0.4_batch128\n",
    "# model_name = \"ON_resnet18_simpleFalse_IPEXTrue_Epochs40_dropout0.33_batch128\"\n",
    "# #resnet18_simpleFalse_IPEXTrue_Epochs12_dropout0.4_batch128\n",
    "# #model_name = f\"resnet18_simple{simple}_IPEX{ipx}_Epochs{epochs}_dropout{dropout}_batch{batch_size}\"\n",
    "# print(model_name)\n",
    "# model_read = torch.jit.load(f\"models/{model_name}.pt\")\n",
    "\n",
    "# model_read.eval()"
   ]
  },
  {
   "cell_type": "markdown",
   "id": "102b8304-68ca-4b7c-878b-eb1654244574",
   "metadata": {},
   "source": [
    "# Define Predict Function"
   ]
  },
  {
   "cell_type": "code",
   "execution_count": 3,
   "id": "321d647d-a813-4db0-bddb-b848e363a2db",
   "metadata": {},
   "outputs": [],
   "source": [
    "def predict(InFldr, ScoreDict, model):\n",
    "    import torchvision.transforms as transforms\n",
    "    import torch.nn as nn\n",
    "    import glob \n",
    "    model.eval()\n",
    "\n",
    "    scores = []\n",
    "    fns = []\n",
    "    transform = transforms.Compose([\n",
    "        transforms.Resize((1024, 1024)),\n",
    "        transforms.ToTensor(),\n",
    "        transforms.Normalize(*imagenet_stats),\n",
    "    ])\n",
    "    \n",
    "    for fn in glob.glob(TEST_DIR+'*.png'):\n",
    "        img = Image.open(fn)\n",
    "        img_tensor = transform(img).reshape(1, 3, 1024, 1024)\n",
    "        score = 0\n",
    "        modelCPU = model.to(\"cpu\")\n",
    "        score = np.argmax(torch.softmax( modelCPU(img_tensor).detach(), dim =1).numpy().squeeze())\n",
    "        fns.append(fn)\n",
    "        scores.append(ScoreDict[score])\n",
    "    return (scores, fns)\n",
    "# model.eval()\n",
    "# with torch.no_grad():\n",
    "#     model_scripted = torch.jit.script(model.to(\"cpu\"))  # Export to TorchScript\n",
    "#     model_scripted.save(model_save_path)  # Jit Save"
   ]
  },
  {
   "cell_type": "code",
   "execution_count": 4,
   "id": "f6e45c26-687a-469f-8579-cc8f78e10224",
   "metadata": {},
   "outputs": [
    {
     "name": "stdout",
     "output_type": "stream",
     "text": [
      "models/model_acc_84_device_xpu_lr_0.000214_epochs_20_jit.pt\n"
     ]
    }
   ],
   "source": [
    "#model_save_path\n",
    "model_name = f\"models/model_acc_84_device_xpu_lr_0.000214_epochs_20_jit.pt\"\n",
    "print(model_name)\n",
    "\n",
    "model_read = torch.jit.load(model_name)\n",
    "#model_read.eval()"
   ]
  },
  {
   "cell_type": "markdown",
   "id": "d0d0e043-770a-43cf-877b-435b869d325f",
   "metadata": {},
   "source": [
    "# Scoring individual images with model\n",
    "### Known Fire"
   ]
  },
  {
   "cell_type": "code",
   "execution_count": 5,
   "id": "2e0d168f-938d-45f1-b9b9-3d63f5199c4f",
   "metadata": {},
   "outputs": [
    {
     "name": "stdout",
     "output_type": "stream",
     "text": [
      "Fire\tdata/colorEnhanced/val/Fire/m_4012355_se_10_h_20160713_mid-day_signs_of_wild_fire_8.png\n",
      "Fire\tdata/colorEnhanced/val/Fire/m_4012355_se_10_h_20160713_mid-day_signs_of_wild_fire_11.png\n",
      "Fire\tdata/colorEnhanced/val/Fire/m_4012355_se_10_h_20160713_late_afternoon_with_signs_of_wild_fire,_no_clouds_10.png\n",
      "NoFire\tdata/colorEnhanced/val/Fire/m_4012355_se_10_h_20160713_early_morning_with_a_wild_fire,_no_clouds_0.png\n",
      "Fire\tdata/colorEnhanced/val/Fire/m_4012355_se_10_h_20160713_early_morning_with_a_wild_fire_0.png\n",
      "Fire\tdata/colorEnhanced/val/Fire/m_4012355_se_10_h_20160713_night_with_wild_fire_3.png\n",
      "Fire\tdata/colorEnhanced/val/Fire/m_4012355_se_10_h_20160713_early_morning_with_a_wild_fire,_no_clouds_3.png\n",
      "Fire\tdata/colorEnhanced/val/Fire/m_4012355_se_10_h_20160713_mid-day_signs_of_wild_fire_14.png\n",
      "Fire\tdata/colorEnhanced/val/Fire/m_4012355_se_10_h_20160713_early_morning_with_a_wild_fire,_no_clouds_6.png\n",
      "Fire\tdata/colorEnhanced/val/Fire/m_4012355_se_10_h_20160713_mid-day_signs_of_wild_fire_17.png\n",
      "Fire\tdata/colorEnhanced/val/Fire/m_4012355_se_10_h_20160713_smoky_conditions_4.png\n",
      "Fire\tdata/colorEnhanced/val/Fire/m_4012355_se_10_h_20160713_early_morning_with_a_wild_fire,_no_clouds_15.png\n",
      "Fire\tdata/colorEnhanced/val/Fire/m_4012355_se_10_h_20160713_late_afternoon_1.png\n",
      "Fire\tdata/colorEnhanced/val/Fire/m_4012355_se_10_h_20160713_late_afternoon_with_signs_of_wild_fire,_no_clouds_7.png\n",
      "Fire\tdata/colorEnhanced/val/Fire/m_4012355_se_10_h_20160713_early_morning_with_a_wild_fire,_no_clouds_18.png\n",
      "NoFire\tdata/colorEnhanced/val/Fire/m_4012355_se_10_h_20160713_mid-day_2.png\n",
      "Fire\tdata/colorEnhanced/val/Fire/m_4012355_se_10_h_20160713_late_afternoon_with_signs_of_wild_fire,_no_clouds_16.png\n",
      "Fire\tdata/colorEnhanced/val/Fire/m_4012355_se_10_h_20160713_mid-day_signs_of_wild_fire_2.png\n",
      "Fire\tdata/colorEnhanced/val/Fire/m_4012355_se_10_h_20160713_late_afternoon_with_signs_of_wild_fire,_no_clouds_4.png\n",
      "NoFire\tdata/colorEnhanced/val/Fire/m_4012355_se_10_h_20160713_mid-day_signs_of_wild_fire_5.png\n",
      "NoFire\tdata/colorEnhanced/val/Fire/m_4012355_se_10_h_20160713_late_afternoon_with_signs_of_wild_fire,_no_clouds_13.png\n",
      "Fire\tdata/colorEnhanced/val/Fire/m_4012355_se_10_h_20160713_late_afternoon_with_signs_of_wild_fire,_no_clouds_1.png\n",
      "Fire\tdata/colorEnhanced/val/Fire/m_4012355_se_10_h_20160713_early_morning_with_a_wild_fire,_no_clouds_12.png\n",
      "NoFire\tdata/colorEnhanced/val/Fire/m_4012355_se_10_h_20160713_early_morning_with_a_wild_fire,_no_clouds_9.png\n",
      "Fire\tdata/colorEnhanced/val/Fire/m_4012355_se_10_h_20160713_late_afternoon_with_signs_of_wild_fire,_no_clouds_19.png\n"
     ]
    }
   ],
   "source": [
    "Fire_true = []\n",
    "Fire_pred = []\n",
    "Fire_pred_dict = {}\n",
    "TEST_DIR =  'data/colorEnhanced/val/Fire/'\n",
    "scoreDict = {0:'Fire', 1:'NoFire'}\n",
    "scores, fns = predict(TEST_DIR, scoreDict, model_read)\n",
    "for score, fn in zip(scores, fns):\n",
    "    Fire_pred_dict[fn] = score\n",
    "    print(f\"{score}\\t{fn}\")\n",
    "    if score == 'Fire': \n",
    "        Fire_pred.append(1)\n",
    "    else:\n",
    "        Fire_pred.append(0)\n",
    "    Fire_true.append(1)"
   ]
  },
  {
   "cell_type": "markdown",
   "id": "b500a614-2253-4efe-b736-9a52db7c4b9b",
   "metadata": {},
   "source": [
    "# Scoring individual images with model\n",
    "### Known NoFire"
   ]
  },
  {
   "cell_type": "markdown",
   "id": "5dbc7762-8eba-4749-bbc2-d33b63ca18b8",
   "metadata": {},
   "source": [
    "# Define functions and normalization parameters"
   ]
  },
  {
   "cell_type": "code",
   "execution_count": 6,
   "id": "cb4d34ef-4afb-4b54-ab5d-2c297cf81b83",
   "metadata": {},
   "outputs": [
    {
     "name": "stdout",
     "output_type": "stream",
     "text": [
      "NoFire\tdata/colorEnhanced/val/NoFire/m_4012241_se_10_h_20160712_dense_vegetation_without_any_signs_of_a_wild_fire_3.png\n",
      "NoFire\tdata/colorEnhanced/val/NoFire/m_4012241_se_10_h_20160712_late_afternoon_with_clear_skies_with_no_signs_of_wild_fire_1.png\n",
      "NoFire\tdata/colorEnhanced/val/NoFire/m_4012241_se_10_h_20160712_mid-day_with_clear_skies_with_no_signs_of_wild_fire_7.png\n",
      "NoFire\tdata/colorEnhanced/val/NoFire/m_4012241_se_10_h_20160712_sparse_vegetation_no_signs_of_wild_fire_9.png\n",
      "NoFire\tdata/colorEnhanced/val/NoFire/m_4012241_se_10_h_20160712_early_morning_with_clear_skies_0.png\n",
      "NoFire\tdata/colorEnhanced/val/NoFire/m_4012241_se_10_h_20160712_late_afternoon_with_clear_skies_with_no_signs_of_wild_fire_11.png\n",
      "NoFire\tdata/colorEnhanced/val/NoFire/m_4012241_se_10_h_20160712_dense_vegetation_without_any_signs_of_a_wild_fire_8.png\n",
      "NoFire\tdata/colorEnhanced/val/NoFire/m_4012241_se_10_h_20160712_late_afternoon_with_clear_skies_with_no_signs_of_wild_fire_16.png\n",
      "NoFire\tdata/colorEnhanced/val/NoFire/m_4012241_se_10_h_20160712_mid-day_with_clear_skies_with_no_signs_of_wild_fire_12.png\n",
      "NoFire\tdata/colorEnhanced/val/NoFire/m_4012241_se_10_h_20160712_no_signs_of_fire_1.png\n",
      "NoFire\tdata/colorEnhanced/val/NoFire/m_4012241_se_10_h_20160712_mid-day_with_clear_skies_4.png\n",
      "NoFire\tdata/colorEnhanced/val/NoFire/m_4012241_se_10_h_20160712_sparse_vegetation_no_signs_of_wild_fire_4.png\n",
      "NoFire\tdata/colorEnhanced/val/NoFire/m_4012241_se_10_h_20160712_mid-day_with_clear_skies_with_no_signs_of_wild_fire_2.png\n",
      "NoFire\tdata/colorEnhanced/val/NoFire/m_4012241_se_10_h_20160712_late_afternoon_with_clear_skies_with_no_signs_of_wild_fire_6.png\n",
      "NoFire\tdata/colorEnhanced/val/NoFire/m_4012241_se_10_h_20160712_night_2.png\n",
      "NoFire\tdata/colorEnhanced/val/NoFire/m_4012241_se_10_h_20160712_late_afternoon_with_clear_skies_3.png\n",
      "NoFire\tdata/colorEnhanced/val/NoFire/m_4012241_se_10_h_20160712_early_morning_with_clear_skies_with_no_signs_of_wild_fire_10.png\n",
      "NoFire\tdata/colorEnhanced/val/NoFire/m_4012241_se_10_h_20160712_early_morning_with_clear_skies_with_no_signs_of_wild_fire_0.png\n",
      "NoFire\tdata/colorEnhanced/val/NoFire/m_4012241_se_10_h_20160712_sparse_vegetation_no_signs_of_wild_fire_14.png\n",
      "NoFire\tdata/colorEnhanced/val/NoFire/m_4012241_se_10_h_20160712_early_morning_with_clear_skies_with_no_signs_of_wild_fire_5.png\n",
      "NoFire\tdata/colorEnhanced/val/NoFire/m_4012241_se_10_h_20160712_mid-day_with_clear_skies_with_no_signs_of_wild_fire_17.png\n",
      "NoFire\tdata/colorEnhanced/val/NoFire/m_4012241_se_10_h_20160712_dense_vegetation_without_any_signs_of_a_wild_fire_13.png\n",
      "NoFire\tdata/colorEnhanced/val/NoFire/m_4012241_se_10_h_20160712_early_morning_with_clear_skies_with_no_signs_of_wild_fire_15.png\n",
      "NoFire\tdata/colorEnhanced/val/NoFire/m_4012241_se_10_h_20160712_sparse_vegetation_no_signs_of_wild_fire_19.png\n",
      "NoFire\tdata/colorEnhanced/val/NoFire/m_4012241_se_10_h_20160712_dense_vegetation_without_any_signs_of_a_wild_fire_18.png\n"
     ]
    },
    {
     "data": {
      "text/plain": [
       "50"
      ]
     },
     "execution_count": 6,
     "metadata": {},
     "output_type": "execute_result"
    }
   ],
   "source": [
    "TEST_DIR =  'data/colorEnhanced/val/NoFire/'\n",
    "scoreDict = {0:'Fire', 1:'NoFire'}\n",
    "scores, fns = predict(TEST_DIR, scoreDict, model_read)\n",
    "for score, fn in zip(scores, fns):\n",
    "    Fire_pred_dict[fn] = score\n",
    "    print(f\"{score}\\t{fn}\")\n",
    "    if score == 'Fire': \n",
    "        Fire_pred.append(1)\n",
    "    else:\n",
    "        Fire_pred.append(0)\n",
    "    Fire_true.append(0)\n",
    "len(Fire_pred)"
   ]
  },
  {
   "cell_type": "code",
   "execution_count": null,
   "id": "83cf26f6-29a3-4e84-9828-f206001124f0",
   "metadata": {},
   "outputs": [],
   "source": []
  },
  {
   "cell_type": "code",
   "execution_count": 7,
   "id": "938f5e23-bd0f-4e32-ac3b-c0b14c115c6d",
   "metadata": {},
   "outputs": [
    {
     "data": {
      "image/png": "[encoded data removed]",
      "text/plain": [
       "<Figure size 640x480 with 2 Axes>"
      ]
     },
     "metadata": {},
     "output_type": "display_data"
    }
   ],
   "source": [
    "%matplotlib inline\n",
    "fireDict = {0:'Fire', 1:'NoFire'}\n",
    "from sklearn.metrics import confusion_matrix, ConfusionMatrixDisplay\n",
    "YTRUE = [fireDict[val] for val in Fire_true]\n",
    "YPRED = [fireDict[val] for val in Fire_pred]\n",
    "labels=['Fire', 'NoFire']\n",
    "cm = confusion_matrix(YTRUE, YPRED,  labels=labels)\n",
    "\n",
    "disp = ConfusionMatrixDisplay(confusion_matrix=cm, display_labels=labels)\n",
    "disp.plot()\n",
    "\n",
    "plt.show()"
   ]
  },
  {
   "cell_type": "code",
   "execution_count": 8,
   "id": "0bc16d95-baf7-4ac6-b6aa-dbd728374543",
   "metadata": {},
   "outputs": [],
   "source": [
    "import pandas as pd\n",
    "import numpy as np\n",
    "\n",
    "usgs = pd.read_csv('data/USGS_NAIP_Sampled_Mapping.csv')\n",
    "usgs['Longitude'] = usgs['Centroid'].apply(lambda x: float(x.split('(')[-1].replace(')','').replace(' ','').split(',')[0]))\n",
    "usgs['Lattitude'] = usgs['Centroid'].apply(lambda x: float(x.split('(')[-1].replace(')','').replace(' ','').split(',')[1]))\n",
    "\n",
    "# ModisOutlineParadise = np.load('data/ModisOutlineParadise.npy')\n",
    "# ModisOutlineNorth = np.load('data/ModisOutlineNorth.npy')\n",
    "# ModisOutlineWest = np.load('data/ModisOutlineWest.npy' )"
   ]
  },
  {
   "cell_type": "code",
   "execution_count": 9,
   "id": "f8f68bda-150f-46de-b26c-910d27c7497c",
   "metadata": {},
   "outputs": [
    {
     "data": {
      "text/html": [
       "<div>\n",
       "<style scoped>\n",
       "    .dataframe tbody tr th:only-of-type {\n",
       "        vertical-align: middle;\n",
       "    }\n",
       "\n",
       "    .dataframe tbody tr th {\n",
       "        vertical-align: top;\n",
       "    }\n",
       "\n",
       "    .dataframe thead th {\n",
       "        text-align: right;\n",
       "    }\n",
       "</style>\n",
       "<table border=\"1\" class=\"dataframe\">\n",
       "  <thead>\n",
       "    <tr style=\"text-align: right;\">\n",
       "      <th></th>\n",
       "      <th>Long</th>\n",
       "      <th>Lat</th>\n",
       "      <th>Class</th>\n",
       "      <th>Name</th>\n",
       "    </tr>\n",
       "  </thead>\n",
       "  <tbody>\n",
       "    <tr>\n",
       "      <th>0</th>\n",
       "      <td>-120.257504</td>\n",
       "      <td>39.631237</td>\n",
       "      <td>NoFire</td>\n",
       "      <td>m_3912142_sw_10_h_20160711_dense_vegetation_wi...</td>\n",
       "    </tr>\n",
       "    <tr>\n",
       "      <th>1</th>\n",
       "      <td>-120.807978</td>\n",
       "      <td>39.746529</td>\n",
       "      <td>NoFire</td>\n",
       "      <td>m_3912343_se_10_h_20160529_no_signs_of_fire_1.png</td>\n",
       "    </tr>\n",
       "    <tr>\n",
       "      <th>2</th>\n",
       "      <td>-123.753879</td>\n",
       "      <td>40.991261</td>\n",
       "      <td>NoFire</td>\n",
       "      <td>m_3912142_sw_10_h_20160711_sparse_vegetation_n...</td>\n",
       "    </tr>\n",
       "    <tr>\n",
       "      <th>3</th>\n",
       "      <td>-120.373237</td>\n",
       "      <td>40.969949</td>\n",
       "      <td>NoFire</td>\n",
       "      <td>m_3912057_sw_10_h_20160711_early_morning_with_...</td>\n",
       "    </tr>\n",
       "    <tr>\n",
       "      <th>4</th>\n",
       "      <td>-121.106805</td>\n",
       "      <td>40.830038</td>\n",
       "      <td>NoFire</td>\n",
       "      <td>m_3912057_sw_10_h_20160711_sparse_vegetation_n...</td>\n",
       "    </tr>\n",
       "    <tr>\n",
       "      <th>...</th>\n",
       "      <td>...</td>\n",
       "      <td>...</td>\n",
       "      <td>...</td>\n",
       "      <td>...</td>\n",
       "    </tr>\n",
       "    <tr>\n",
       "      <th>245</th>\n",
       "      <td>-121.813154</td>\n",
       "      <td>39.510351</td>\n",
       "      <td>Fire</td>\n",
       "      <td>m_4012355_se_10_h_20160713_late_afternoon_with...</td>\n",
       "    </tr>\n",
       "    <tr>\n",
       "      <th>246</th>\n",
       "      <td>-121.752525</td>\n",
       "      <td>39.758801</td>\n",
       "      <td>Fire</td>\n",
       "      <td>m_4012355_se_10_h_20160713_late_afternoon_with...</td>\n",
       "    </tr>\n",
       "    <tr>\n",
       "      <th>247</th>\n",
       "      <td>-122.064563</td>\n",
       "      <td>40.041826</td>\n",
       "      <td>Fire</td>\n",
       "      <td>m_4012355_se_10_h_20160713_early_morning_with_...</td>\n",
       "    </tr>\n",
       "    <tr>\n",
       "      <th>248</th>\n",
       "      <td>-121.072849</td>\n",
       "      <td>40.015871</td>\n",
       "      <td>Fire</td>\n",
       "      <td>m_4012355_se_10_h_20160713_early_morning_with_...</td>\n",
       "    </tr>\n",
       "    <tr>\n",
       "      <th>249</th>\n",
       "      <td>-121.717650</td>\n",
       "      <td>40.529174</td>\n",
       "      <td>Fire</td>\n",
       "      <td>m_4012355_se_10_h_20160713_late_afternoon_with...</td>\n",
       "    </tr>\n",
       "  </tbody>\n",
       "</table>\n",
       "<p>250 rows × 4 columns</p>\n",
       "</div>"
      ],
      "text/plain": [
       "           Long        Lat   Class  \\\n",
       "0   -120.257504  39.631237  NoFire   \n",
       "1   -120.807978  39.746529  NoFire   \n",
       "2   -123.753879  40.991261  NoFire   \n",
       "3   -120.373237  40.969949  NoFire   \n",
       "4   -121.106805  40.830038  NoFire   \n",
       "..          ...        ...     ...   \n",
       "245 -121.813154  39.510351    Fire   \n",
       "246 -121.752525  39.758801    Fire   \n",
       "247 -122.064563  40.041826    Fire   \n",
       "248 -121.072849  40.015871    Fire   \n",
       "249 -121.717650  40.529174    Fire   \n",
       "\n",
       "                                                  Name  \n",
       "0    m_3912142_sw_10_h_20160711_dense_vegetation_wi...  \n",
       "1    m_3912343_se_10_h_20160529_no_signs_of_fire_1.png  \n",
       "2    m_3912142_sw_10_h_20160711_sparse_vegetation_n...  \n",
       "3    m_3912057_sw_10_h_20160711_early_morning_with_...  \n",
       "4    m_3912057_sw_10_h_20160711_sparse_vegetation_n...  \n",
       "..                                                 ...  \n",
       "245  m_4012355_se_10_h_20160713_late_afternoon_with...  \n",
       "246  m_4012355_se_10_h_20160713_late_afternoon_with...  \n",
       "247  m_4012355_se_10_h_20160713_early_morning_with_...  \n",
       "248  m_4012355_se_10_h_20160713_early_morning_with_...  \n",
       "249  m_4012355_se_10_h_20160713_late_afternoon_with...  \n",
       "\n",
       "[250 rows x 4 columns]"
      ]
     },
     "execution_count": 9,
     "metadata": {},
     "output_type": "execute_result"
    }
   ],
   "source": [
    "#Fire_pred_dict\n",
    "colorEnhancedMap = pd.read_csv(\"data/ColorEnhanced_Mapping.csv\")\n",
    "colorEnhancedMap = colorEnhancedMap.drop(columns=['Unnamed: 0'])\n",
    "colorEnhancedMap"
   ]
  },
  {
   "cell_type": "code",
   "execution_count": null,
   "id": "e963eb5e-d489-4d41-9751-37af780544ac",
   "metadata": {},
   "outputs": [],
   "source": []
  },
  {
   "cell_type": "code",
   "execution_count": null,
   "id": "e760a363-a04e-49ab-873f-17c240256387",
   "metadata": {},
   "outputs": [],
   "source": []
  },
  {
   "cell_type": "markdown",
   "id": "6e7697e1-5e8d-4b56-82c8-b36b54b47131",
   "metadata": {},
   "source": [
    "# Synthesize and a Faux MODIS Burn Area\n",
    "\n",
    "sample N coordinates within and without the polygon"
   ]
  },
  {
   "cell_type": "code",
   "execution_count": 10,
   "id": "27d0d661-f5ea-4a12-ab7f-df8a1974a599",
   "metadata": {},
   "outputs": [
    {
     "data": {
      "image/png": "[encoded data removed]",
      "text/plain": [
       "<Figure size 640x480 with 1 Axes>"
      ]
     },
     "metadata": {},
     "output_type": "display_data"
    }
   ],
   "source": [
    "import matplotlib.pyplot as plt\n",
    "from matplotlib.patches import Polygon\n",
    "from shapely.geometry import Polygon as GPoly\n",
    "from shapely.geometry import Point\n",
    "import random\n",
    "\n",
    "fig, ax = plt.subplots()\n",
    "\n",
    "N_rnd = 2000\n",
    "\n",
    "xrnd = 4*np.random.sample(N_rnd) - 124\n",
    "yrnd = 2*np.random.sample(N_rnd) + 39\n",
    "prnd = np.array(list(zip(xrnd, yrnd)))\n",
    "\n",
    "xmin = -124\n",
    "xmax = -120\n",
    "\n",
    "ymin = 39\n",
    "ymax = 41\n",
    "\n",
    "# Create star shape for synthetic MODIS\n",
    "import numpy as np\n",
    "pi = np.pi\n",
    "x = []\n",
    "y = []\n",
    "for k in range(0,5):\n",
    "    r = 4/9\n",
    "    x.append( r*np.cos(2*pi*k/5 - 2*pi/10) - 122 )\n",
    "    y.append( r*np.sin(2*pi*k/5 - 2*pi/10) + 40 )\n",
    "    r = 1\n",
    "    x.append(  r*np.cos(2*pi*k/5) - 122)\n",
    "    y.append(  r*np.sin(2*pi*k/5) + 40)\n",
    "    \n",
    "polyStar =  np.array(list(zip(x,y))) \n",
    "polyStarP = Polygon(polyStar, closed=True,  fc=(1,0,0,0.3),  ec=(0,0,1,0.3))\n",
    "polyStarG = GPoly(polyStar)\n",
    "\n",
    "ax.add_patch(polyStarP)\n",
    "\n",
    "\n",
    "# Color polyStar points red\n",
    "test = []\n",
    "for point in prnd:\n",
    "    test.append(not polyStarG.contains(Point(point)))\n",
    "test = np.array(test)\n",
    "VertNoFire = np.array(list(zip(xrnd[test==True], yrnd[test==True])))\n",
    "\n",
    "# Color polyStar points red\n",
    "test = []\n",
    "for point in prnd:\n",
    "    test.append( polyStarG.contains(Point(point)))\n",
    "test = np.array(test)\n",
    "VertFire = np.array(list(zip(xrnd[test==True], yrnd[test==True])))\n",
    "\n",
    "for fn, score in Fire_pred_dict.items():\n",
    "    lat = colorEnhancedMap[colorEnhancedMap['Name'] == fn.split('/')[-1]]['Lat']\n",
    "    long = colorEnhancedMap[colorEnhancedMap['Name'] == fn.split('/')[-1]]['Long']\n",
    "    if score == 'Fire':\n",
    "        plt.scatter(float(long),float(lat), s = 3, c='r')\n",
    "    else:\n",
    "        plt.scatter(float(long),float(lat), s = 5, c='lime')\n",
    "\n",
    "# Set the aspect ratio and limits\n",
    "plt.gca().set_aspect('equal')\n",
    "plt.xlim(-124, -120)\n",
    "plt.ylim(39.0, 41.0)\n",
    "plt.xticks(rotation = -60)\n",
    "# Set labels and title\n",
    "plt.xlabel('Longitude')\n",
    "plt.ylabel('Latitude')\n",
    "plt.title('MODIS Regions Ideal Sampling')\n",
    "plt.grid()\n",
    "ax.grid()\n",
    "# Show the plot\n",
    "plt.show()    \n"
   ]
  },
  {
   "cell_type": "code",
   "execution_count": null,
   "id": "c7f653b6-312f-42b7-b346-37eeb8e54b11",
   "metadata": {},
   "outputs": [],
   "source": []
  },
  {
   "cell_type": "code",
   "execution_count": null,
   "id": "16ed2dfe-b3a7-47d9-80ab-4b42991705ce",
   "metadata": {},
   "outputs": [],
   "source": []
  },
  {
   "cell_type": "markdown",
   "id": "0500f665-21dc-450e-95d3-66d0cc812d15",
   "metadata": {},
   "source": [
    "## Notices and Disclaimers\n",
    "\n",
    "Intel technologies may require enabled hardware, software or service activation.\n",
    "\n",
    "No product or component can be absolutely secure. \n",
    "\n",
    "Your costs and results may vary. \n",
    "\n",
    "© Intel Corporation. Intel, the Intel logo, and other Intel marks are trademarks of Intel Corporation or its subsidiaries. Other names and brands may be claimed as the property of others. "
   ]
  },
  {
   "cell_type": "code",
   "execution_count": null,
   "id": "a25dcd37-4e5f-4331-ad10-0408523c22f6",
   "metadata": {},
   "outputs": [],
   "source": []
  },
  {
   "cell_type": "code",
   "execution_count": null,
   "id": "5190c2c8-7648-4507-ad38-ca872d6181b0",
   "metadata": {},
   "outputs": [],
   "source": []
  },
  {
   "cell_type": "code",
   "execution_count": null,
   "id": "17e8f376-643d-4055-b326-dae72372904f",
   "metadata": {},
   "outputs": [],
   "source": []
  }
 ],
 "metadata": {
  "kernelspec": {
   "display_name": "Python 3 (ipykernel)",
   "language": "python",
   "name": "python3"
  },
  "language_info": {
   "codemirror_mode": {
    "name": "ipython",
    "version": 3
   },
   "file_extension": ".py",
   "mimetype": "text/x-python",
   "name": "python",
   "nbconvert_exporter": "python",
   "pygments_lexer": "ipython3",
   "version": "3.10.11"
  }
 },
 "nbformat": 4,
 "nbformat_minor": 5
}
