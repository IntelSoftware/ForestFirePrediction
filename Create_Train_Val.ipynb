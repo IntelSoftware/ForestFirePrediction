{
 "cells": [
  {
   "cell_type": "markdown",
   "id": "ca5b4f94-e7b9-485b-a1a5-36e0b4b7f5de",
   "metadata": {},
   "source": [
    "# Fill train/val folders"
   ]
  },
  {
   "cell_type": "code",
   "execution_count": null,
   "id": "43fc15b7-70a3-47fd-8526-96b952b6265c",
   "metadata": {},
   "outputs": [],
   "source": [
    "NoFireDir = 'data/cropData/NoFire/*.png'\n",
    "FireDir = 'data/cropData/Fire/*.png'"
   ]
  },
  {
   "cell_type": "code",
   "execution_count": null,
   "id": "cc5dcf2d-26ff-4f2f-bd01-cbd05455791d",
   "metadata": {},
   "outputs": [],
   "source": [
    "#!pip install split-folders"
   ]
  },
  {
   "cell_type": "code",
   "execution_count": null,
   "id": "7c889276-6b96-43d0-8af8-632d0e7a5d09",
   "metadata": {},
   "outputs": [],
   "source": [
    "import glob\n",
    "FireList = []\n",
    "NoFireList = []\n",
    "\n",
    "for fire, fn in enumerate(glob.glob(FireDir)):\n",
    "    FireList.append(fn)\n",
    "    \n",
    "print('Count fire files', fire)\n",
    "\n",
    "for noFire, fn in enumerate(glob.glob(NoFireDir)):\n",
    "    NoFireList.append(fn)\n",
    "    \n",
    "print('Count NoFire files', noFire)\n",
    "    "
   ]
  },
  {
   "cell_type": "code",
   "execution_count": null,
   "id": "55089e4c-8b5d-486b-b274-a0b6a367f27c",
   "metadata": {},
   "outputs": [],
   "source": [
    "import splitfolders\n",
    "splitfolders.ratio('data/cropData', output=\"data/output\", seed=2023, ratio=(.9, 0.1, 0.0)) "
   ]
  },
  {
   "cell_type": "code",
   "execution_count": null,
   "id": "827f1b76-2eae-499d-bc69-da4a442fb043",
   "metadata": {},
   "outputs": [],
   "source": []
  },
  {
   "cell_type": "code",
   "execution_count": null,
   "id": "288f7931-22dd-44e1-8063-149239a090c2",
   "metadata": {},
   "outputs": [],
   "source": []
  }
 ],
 "metadata": {
  "kernelspec": {
   "display_name": "Python 3 (Intel® oneAPI 2023.1)",
   "language": "python",
   "name": "c009-intel_distribution_of_python_3_oneapi-beta05-python"
  },
  "language_info": {
   "codemirror_mode": {
    "name": "ipython",
    "version": 3
   },
   "file_extension": ".py",
   "mimetype": "text/x-python",
   "name": "python",
   "nbconvert_exporter": "python",
   "pygments_lexer": "ipython3",
   "version": "3.9.16"
  }
 },
 "nbformat": 4,
 "nbformat_minor": 5
}
