{
 "cells": [
  {
   "cell_type": "markdown",
   "id": "b25e0fd8-209a-4daa-8d8c-7387c08ae4f6",
   "metadata": {},
   "source": [
    "# Shiftdata\n",
    "\n",
    "Take syntheitcally generated images and seed them to skew the class data slightly to ensure model can converge"
   ]
  },
  {
   "cell_type": "code",
   "execution_count": 4,
   "id": "66bb64e7-cc38-4ea8-8022-ffe8f7e8997a",
   "metadata": {},
   "outputs": [
    {
     "name": "stdout",
     "output_type": "stream",
     "text": [
      "folder already exist\n",
      "percent to change Fire 0.01\n",
      "completed train set\n",
      "completed val set\n",
      "percent to change NoFire -0.01\n",
      "completed train set\n",
      "completed val set\n",
      "done\n"
     ]
    }
   ],
   "source": [
    "from PIL import Image\n",
    "import os\n",
    "\n",
    "try:\n",
    "    os.makedirs('data/shift/train/NoFire')\n",
    "    os.makedirs('data/shift/val/NoFire')\n",
    "    os.makedirs('data/shift/train/Fire')\n",
    "    os.makedirs('data/shift/val/Fire')\n",
    "except:\n",
    "    print(\"folder already exist\")\n",
    "\n",
    "perc = .01\n",
    "print(\"percent to change Fire\", perc)\n",
    "\n",
    "def shiftIm(fldrIn, fn, fldrOut, perc=-.04, type='png'):\n",
    "    path = fldrIn + fn\n",
    "    im = Image.open(path).convert('RGB')\n",
    "\n",
    "    # Split into 3 channels\n",
    "    r, g, b = im.split()\n",
    "    # Increase Reds\n",
    "    r = r.point(lambda i: i * (1+perc))\n",
    "\n",
    "    # Decrease Greens\n",
    "    g = g.point(lambda i: i * (1-perc))\n",
    "\n",
    "    # Recombine back to RGB image\n",
    "    result = Image.merge('RGB', (r, g, b))\n",
    "\n",
    "    result.save(f'{fldrOut}/{fn}')\n",
    "    im.close()\n",
    "# cropIm(fldrIn, fn, fldrOut)\n",
    "\n",
    "import glob\n",
    "FireList = []\n",
    "NoFireList = []\n",
    "\n",
    "fldrIn = \"data/output/train/Fire/\"\n",
    "fldrOut = \"data/shift/train/Fire/\"\n",
    "for fire, fn in enumerate(glob.glob(fldrIn+\"*.png\")):\n",
    "    fn_trunc = fn.split('/')[-1]\n",
    "    FireList.append(fn_trunc)\n",
    "    shiftIm(fldrIn, fn_trunc, fldrOut, perc, 'png')\n",
    "print(\"completed train set\")\n",
    "fldrIn = \"data/output/val/Fire/\"\n",
    "fldrOut = \"data/shift/val/Fire/\"\n",
    "for fire, fn in enumerate(glob.glob(fldrIn+\"*.png\")):\n",
    "    fn_trunc = fn.split('/')[-1]\n",
    "    FireList.append(fn_trunc)\n",
    "    shiftIm(fldrIn, fn_trunc, fldrOut, perc, 'png')\n",
    "print(\"completed val set\")\n",
    "\n",
    "perc = -1 * perc\n",
    "print(\"percent to change NoFire\", perc)\n",
    "\n",
    "fldrIn = \"data/output/train/NoFire/\"\n",
    "fldrOut = \"data/shift/train/NoFire\"\n",
    "for fire, fn in enumerate(glob.glob(fldrIn+\"*.png\")):\n",
    "    fn_trunc = fn.split('/')[-1]\n",
    "    FireList.append(fn_trunc)\n",
    "    shiftIm(fldrIn, fn_trunc, fldrOut, perc, 'png')\n",
    "print(\"completed train set\")\n",
    "fldrIn = \"data/output/val/NoFire/\"\n",
    "fldrOut = \"data/shift/val/NoFire/\"\n",
    "for fire, fn in enumerate(glob.glob(fldrIn+\"*.png\")):\n",
    "    fn_trunc = fn.split('/')[-1]\n",
    "    FireList.append(fn_trunc)\n",
    "    shiftIm(fldrIn, fn_trunc, fldrOut, perc, 'png')\n",
    "print(\"completed val set\")\n",
    "\n",
    "print(\"done\")\n"
   ]
  },
  {
   "cell_type": "code",
   "execution_count": null,
   "id": "cf843316-4b17-4efb-ab1c-05e596d98d50",
   "metadata": {},
   "outputs": [],
   "source": []
  }
 ],
 "metadata": {
  "kernelspec": {
   "display_name": "Python 3 (ipykernel)",
   "language": "python",
   "name": "python3"
  },
  "language_info": {
   "codemirror_mode": {
    "name": "ipython",
    "version": 3
   },
   "file_extension": ".py",
   "mimetype": "text/x-python",
   "name": "python",
   "nbconvert_exporter": "python",
   "pygments_lexer": "ipython3",
   "version": "3.10.11"
  }
 },
 "nbformat": 4,
 "nbformat_minor": 5
}
