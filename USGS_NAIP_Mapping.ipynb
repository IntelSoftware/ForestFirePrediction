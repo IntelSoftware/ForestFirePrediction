{
 "cells": [
  {
   "cell_type": "code",
   "execution_count": null,
   "id": "b2b0693c-1b0f-4d68-ba84-f410c19ff6e2",
   "metadata": {},
   "outputs": [],
   "source": []
  },
  {
   "cell_type": "markdown",
   "id": "7d8c754e-1675-499d-a043-268899faa011",
   "metadata": {},
   "source": [
    "### Create MapDict\n",
    "\n",
    "Map associating a NAIP txt/tif file and the centroid of that map"
   ]
  },
  {
   "cell_type": "code",
   "execution_count": 2,
   "id": "a033d296-5db3-467f-a100-dd7891af3a26",
   "metadata": {},
   "outputs": [
    {
     "data": {
      "text/plain": [
       "{'m_4012032_sw_10_h_20160719.txt': {'NoFire': (-120.09375, 40.53125)},\n",
       " 'm_3912142_sw_10_h_20160711.txt': {'NoFire': (-121.84375, 39.28125)},\n",
       " 'm_4012004_sw_10_h_20160720.txt': {'NoFire': (-120.59375, 40.90625)},\n",
       " 'm_4012021_se_10_h_20160719.txt': {'NoFire': (-120.40625, 40.65625)},\n",
       " 'm_4012111_ne_10_h_20160808.txt': {'NoFire': (-121.65625, 40.84375)},\n",
       " 'm_3912312_sw_10_h_20160529.txt': {'NoFire': (-123.59375, 39.78125)},\n",
       " 'm_3912310_nw_10_h_20160528.txt': {'NoFire': (-123.84375, 39.84375)},\n",
       " 'm_3912318_ne_10_h_20160529.txt': {'NoFire': (-123.78125, 39.71875)},\n",
       " 'm_3912149_nw_10_h_20160711.txt': {'NoFire': (-121.96875, 39.21875)},\n",
       " 'm_4012336_se_10_h_20160528.txt': {'NoFire': (-123.53125, 40.40625)},\n",
       " 'm_4012343_ne_10_h_20160528.txt': {'NoFire': (-123.65625, 40.34375)},\n",
       " 'm_4012018_ne_10_h_20160720.txt': {'NoFire': (-120.78125, 40.71875)},\n",
       " 'm_4012356_nw_10_h_20160713.txt': {'NoFire': (-123.09375, 40.21875)},\n",
       " 'm_4012231_sw_10_h_20160717.txt': {'NoFire': (-122.21875, 40.53125)},\n",
       " 'm_4012134_nw_10_h_20160717.txt': {'NoFire': (-121.84375, 40.46875)},\n",
       " 'm_4012021_sw_10_h_20160719.txt': {'NoFire': (-120.46875, 40.65625)},\n",
       " 'm_4012138_se_10_h_20160808.txt': {'NoFire': (-121.28125, 40.40625)},\n",
       " 'm_4012111_nw_10_h_20160808.txt': {'NoFire': (-121.71875, 40.84375)},\n",
       " 'm_4012162_se_10_h_20160806.txt': {'NoFire': (-121.28125, 40.03125)},\n",
       " 'm_4012250_nw_10_h_20160712.txt': {'NoFire': (-122.84375, 40.21875)},\n",
       " 'm_4012005_sw_10_h_20160719.txt': {'NoFire': (-120.46875, 40.90625)},\n",
       " 'm_4012161_nw_10_h_20160713.txt': {'NoFire': (-121.46875, 40.09375)},\n",
       " 'm_3912132_se_10_h_20160805.txt': {'NoFire': (-121.03125, 39.53125)},\n",
       " 'm_3912144_sw_10_h_20160710.txt': {'NoFire': (-121.59375, 39.28125)},\n",
       " 'm_4012316_ne_10_h_20160811.txt': {'NoFire': (-123.03125, 40.84375)},\n",
       " 'm_4012320_sw_10_h_20160528.txt': {'NoFire': (-123.59375, 40.65625)},\n",
       " 'm_4012149_se_10_h_20160713.txt': {'NoFire': (-121.90625, 40.15625)},\n",
       " 'm_3912045_ne_10_h_20160712.txt': {'NoFire': (-120.40625, 39.34375)},\n",
       " 'm_3912057_sw_10_h_20160711.txt': {'NoFire': (-120.96875, 39.03125)},\n",
       " 'm_3912138_nw_10_h_20160710.txt': {'NoFire': (-121.34375, 39.46875)},\n",
       " 'm_3912310_se_10_h_20160528.txt': {'NoFire': (-123.78125, 39.78125)},\n",
       " 'm_4012241_se_10_h_20160712.txt': {'NoFire': (-122.90625, 40.28125)},\n",
       " 'm_4012324_ne_10_h_20160811.txt': {'NoFire': (-123.03125, 40.71875)},\n",
       " 'm_3912346_nw_10_h_20160529.txt': {'NoFire': (-123.34375, 39.34375)},\n",
       " 'm_4012344_nw_10_h_20160528.txt': {'NoFire': (-123.59375, 40.34375)},\n",
       " 'm_4012236_se_10_h_20160713.txt': {'NoFire': (-122.53125, 40.40625)},\n",
       " 'm_3912356_sw_10_h_20160531.txt': {'NoFire': (-123.09375, 39.15625)},\n",
       " 'm_4012329_nw_10_h_20160811.txt': {'NoFire': (-123.46875, 40.59375)},\n",
       " 'm_4012123_se_10_h_20160720.txt': {'NoFire': (-121.15625, 40.65625)},\n",
       " 'm_3912343_se_10_h_20160529.txt': {'NoFire': (-123.65625, 39.28125)},\n",
       " 'm_4012163_se_10_h_20160805.txt': {'NoFire': (-121.15625, 40.03125)},\n",
       " 'm_3912321_se_10_h_20160529.txt': {'NoFire': (-123.40625, 39.65625)},\n",
       " 'm_4012212_se_10_h_20160713.txt': {'Fire': (-122.53125, 40.78125)},\n",
       " 'm_4012227_nw_10_h_20160713.txt': {'Fire': (-122.71875, 40.59375)},\n",
       " 'm_3912105_sw_10_h_20160713.txt': {'Fire': (-121.46875, 39.90625)},\n",
       " 'm_3912250_se_10_h_20160531.txt': {'Fire': (-122.78125, 39.15625)},\n",
       " 'm_4012204_nw_10_h_20160713.txt': {'Fire': (-122.59375, 40.96875)},\n",
       " 'm_3912227_se_10_h_20160712.txt': {'Fire': (-122.65625, 39.53125)},\n",
       " 'm_3912114_se_10_h_20160806.txt': {'Fire': (-121.28125, 39.78125)},\n",
       " 'm_4012361_ne_10_h_20160712.txt': {'Fire': (-123.40625, 40.09375)},\n",
       " 'm_4012355_se_10_h_20160713.txt': {'Fire': (-123.15625, 40.15625)},\n",
       " 'm_3912123_nw_10_h_20160620.txt': {'Fire': (-121.21875, 39.71875)},\n",
       " 'm_3912120_nw_10_h_20160713.txt': {'Fire': (-121.59375, 39.71875)},\n",
       " 'm_3912226_nw_10_h_20160531.txt': {'Fire': (-122.84375, 39.59375)},\n",
       " 'm_4012204_sw_10_h_20160713.txt': {'Fire': (-122.59375, 40.90625)},\n",
       " 'm_3912113_se_10_h_20160806.txt': {'Fire': (-121.40625, 39.78125)},\n",
       " 'm_3912250_sw_10_h_20160531.txt': {'Fire': (-122.84375, 39.15625)},\n",
       " 'm_4012250_se_10_h_20160712.txt': {'Fire': (-122.78125, 40.15625)},\n",
       " 'm_3912227_nw_10_h_20160531.txt': {'Fire': (-122.71875, 39.59375)},\n",
       " 'm_3912243_sw_10_h_20160531.txt': {'Fire': (-122.71875, 39.28125)},\n",
       " 'm_3912129_se_10_h_20160710.txt': {'Fire': (-121.40625, 39.53125)},\n",
       " 'm_3912120_ne_10_h_20160713.txt': {'Fire': (-121.53125, 39.71875)},\n",
       " 'm_3912251_nw_10_h_20160531.txt': {'Fire': (-122.71875, 39.21875)},\n",
       " 'm_4012213_nw_10_h_20160713.txt': {'Fire': (-122.46875, 40.84375)},\n",
       " 'm_3912113_sw_10_h_20160713.txt': {'Fire': (-121.46875, 39.78125)},\n",
       " 'm_4012212_ne_10_h_20160713.txt': {'Fire': (-122.53125, 40.84375)},\n",
       " 'm_3912324_ne_10_h_20160531.txt': {'Fire': (-123.03125, 39.71875)},\n",
       " 'm_4012257_ne_10_h_20160712.txt': {'Fire': (-122.90625, 40.09375)},\n",
       " 'm_3912129_ne_10_h_20160710.txt': {'Fire': (-121.40625, 39.59375)},\n",
       " 'm_3912122_nw_10_h_20160806.txt': {'Fire': (-121.34375, 39.71875)},\n",
       " 'm_4012259_ne_10_h_20160712.txt': {'Fire': (-122.65625, 40.09375)},\n",
       " 'm_4012211_se_10_h_20160713.txt': {'Fire': (-122.65625, 40.78125)},\n",
       " 'm_3912226_ne_10_h_20160531.txt': {'Fire': (-122.78125, 39.59375)},\n",
       " 'm_4012346_se_10_h_20160712.txt': {'Fire': (-123.28125, 40.28125)},\n",
       " 'm_4012211_sw_10_h_20160713.txt': {'Fire': (-122.71875, 40.78125)},\n",
       " 'm_3912259_nw_10_h_20160531.txt': {'Fire': (-122.71875, 39.09375)},\n",
       " 'm_3912203_se_10_h_20160712.txt': {'Fire': (-122.65625, 39.90625)},\n",
       " 'm_3912252_ne_10_h_20160712.txt': {'Fire': (-122.53125, 39.21875)},\n",
       " 'm_3912348_ne_10_h_20160531.txt': {'Fire': (-123.03125, 39.34375)},\n",
       " 'm_4012213_sw_10_h_20160713.txt': {'Fire': (-122.46875, 40.78125)},\n",
       " 'm_3912211_sw_10_h_20160712.txt': {'Fire': (-122.71875, 39.78125)},\n",
       " 'm_3912316_se_10_h_20160531.txt': {'Fire': (-123.03125, 39.78125)},\n",
       " 'm_3912121_nw_10_h_20160713.txt': {'Fire': (-121.46875, 39.71875)}}"
      ]
     },
     "execution_count": 2,
     "metadata": {},
     "output_type": "execute_result"
    }
   ],
   "source": [
    "import glob\n",
    "import os\n",
    "import numpy as np\n",
    "\n",
    "def Centroid(text):\n",
    "    with open(text, 'r') as f:\n",
    "        contents = f.read()\n",
    "        West_Bounding_Coordinate = float(contents.split('West_Bounding_Coordinate:  ')[-1].split('\\n')[0])\n",
    "        East_Bounding_Coordinate = float(contents.split('East_Bounding_Coordinate:  ')[-1].split('\\n')[0])\n",
    "        North_Bounding_Coordinate = float(contents.split('North_Bounding_Coordinate:  ')[-1].split('\\n')[0])\n",
    "        South_Bounding_Coordinate = float(contents.split('South_Bounding_Coordinate:  ')[-1].split('\\n')[0])    \n",
    "    return(np.mean([West_Bounding_Coordinate, East_Bounding_Coordinate]), np.mean([North_Bounding_Coordinate, South_Bounding_Coordinate]))\n",
    "    \n",
    "MapDict = {}\n",
    "\n",
    "path = 'CA_Fire/NoFire/*.txt'\n",
    "for f in glob.glob(path):\n",
    "    MapDict[f.split('/')[-1]] = {'NoFire': Centroid(f)}\n",
    "    \n",
    "path = 'CA_Fire/Fire/*.txt'\n",
    "for f in glob.glob(path):\n",
    "    MapDict[f.split('/')[-1]] = {'Fire': Centroid(f)}\n",
    "\n",
    "path = 'CA_Fire/Fire/*.txt'\n",
    "for f in glob.glob(path):\n",
    "    MapDict[f.split('/')[-1]] = {'Fire': Centroid(f)}\n",
    "    \n",
    "path = 'CA_Fire/Fire/*.txt'\n",
    "for f in glob.glob(path):\n",
    "    MapDict[f.split('/')[-1]] = {'Fire': Centroid(f)}\n",
    "    \n",
    "MapDict"
   ]
  },
  {
   "cell_type": "code",
   "execution_count": 3,
   "id": "1d4f7676-447d-4fd0-81f3-0dfc9e25b5a3",
   "metadata": {
    "tags": []
   },
   "outputs": [],
   "source": [
    "import pandas as pd\n",
    "df = pd.DataFrame(MapDict)"
   ]
  },
  {
   "cell_type": "code",
   "execution_count": null,
   "id": "f8415e78-e0c1-491c-9067-3004aca256d0",
   "metadata": {
    "tags": []
   },
   "outputs": [],
   "source": []
  },
  {
   "cell_type": "code",
   "execution_count": null,
   "id": "78841365-2ff1-496c-a420-eb758be0886d",
   "metadata": {
    "tags": []
   },
   "outputs": [],
   "source": []
  },
  {
   "cell_type": "code",
   "execution_count": 4,
   "id": "59a16db7-6654-4171-bd92-a08153eef4de",
   "metadata": {
    "tags": []
   },
   "outputs": [],
   "source": [
    "bobL = []\n",
    "for k,v in MapDict.items():\n",
    "    for f,c in v.items():\n",
    "        bobL.append((k.split('.')[0],c,f))"
   ]
  },
  {
   "cell_type": "code",
   "execution_count": 5,
   "id": "26ffbda6-32d7-480d-ac1b-5b355444bd84",
   "metadata": {
    "tags": []
   },
   "outputs": [],
   "source": [
    "df = pd.DataFrame(bobL,columns=['Name','Centroid','Patch'])"
   ]
  },
  {
   "cell_type": "code",
   "execution_count": 6,
   "id": "6fa1e103-cc7f-4907-84dc-211f0f671141",
   "metadata": {
    "tags": []
   },
   "outputs": [],
   "source": [
    "df.to_csv('USGS_NAIP_Sampled_Mapping.csv')"
   ]
  },
  {
   "cell_type": "code",
   "execution_count": 7,
   "id": "f553b9bd-5ade-4c9f-b518-0593515074e9",
   "metadata": {
    "tags": []
   },
   "outputs": [
    {
     "data": {
      "text/html": [
       "<div>\n",
       "<style scoped>\n",
       "    .dataframe tbody tr th:only-of-type {\n",
       "        vertical-align: middle;\n",
       "    }\n",
       "\n",
       "    .dataframe tbody tr th {\n",
       "        vertical-align: top;\n",
       "    }\n",
       "\n",
       "    .dataframe thead th {\n",
       "        text-align: right;\n",
       "    }\n",
       "</style>\n",
       "<table border=\"1\" class=\"dataframe\">\n",
       "  <thead>\n",
       "    <tr style=\"text-align: right;\">\n",
       "      <th></th>\n",
       "      <th>Name</th>\n",
       "      <th>Centroid</th>\n",
       "      <th>Patch</th>\n",
       "    </tr>\n",
       "  </thead>\n",
       "  <tbody>\n",
       "    <tr>\n",
       "      <th>0</th>\n",
       "      <td>m_4012032_sw_10_h_20160719</td>\n",
       "      <td>(-120.09375, 40.53125)</td>\n",
       "      <td>NoFire</td>\n",
       "    </tr>\n",
       "    <tr>\n",
       "      <th>1</th>\n",
       "      <td>m_3912142_sw_10_h_20160711</td>\n",
       "      <td>(-121.84375, 39.28125)</td>\n",
       "      <td>NoFire</td>\n",
       "    </tr>\n",
       "    <tr>\n",
       "      <th>2</th>\n",
       "      <td>m_4012004_sw_10_h_20160720</td>\n",
       "      <td>(-120.59375, 40.90625)</td>\n",
       "      <td>NoFire</td>\n",
       "    </tr>\n",
       "    <tr>\n",
       "      <th>3</th>\n",
       "      <td>m_4012021_se_10_h_20160719</td>\n",
       "      <td>(-120.40625, 40.65625)</td>\n",
       "      <td>NoFire</td>\n",
       "    </tr>\n",
       "    <tr>\n",
       "      <th>4</th>\n",
       "      <td>m_4012111_ne_10_h_20160808</td>\n",
       "      <td>(-121.65625, 40.84375)</td>\n",
       "      <td>NoFire</td>\n",
       "    </tr>\n",
       "    <tr>\n",
       "      <th>...</th>\n",
       "      <td>...</td>\n",
       "      <td>...</td>\n",
       "      <td>...</td>\n",
       "    </tr>\n",
       "    <tr>\n",
       "      <th>78</th>\n",
       "      <td>m_3912348_ne_10_h_20160531</td>\n",
       "      <td>(-123.03125, 39.34375)</td>\n",
       "      <td>Fire</td>\n",
       "    </tr>\n",
       "    <tr>\n",
       "      <th>79</th>\n",
       "      <td>m_4012213_sw_10_h_20160713</td>\n",
       "      <td>(-122.46875, 40.78125)</td>\n",
       "      <td>Fire</td>\n",
       "    </tr>\n",
       "    <tr>\n",
       "      <th>80</th>\n",
       "      <td>m_3912211_sw_10_h_20160712</td>\n",
       "      <td>(-122.71875, 39.78125)</td>\n",
       "      <td>Fire</td>\n",
       "    </tr>\n",
       "    <tr>\n",
       "      <th>81</th>\n",
       "      <td>m_3912316_se_10_h_20160531</td>\n",
       "      <td>(-123.03125, 39.78125)</td>\n",
       "      <td>Fire</td>\n",
       "    </tr>\n",
       "    <tr>\n",
       "      <th>82</th>\n",
       "      <td>m_3912121_nw_10_h_20160713</td>\n",
       "      <td>(-121.46875, 39.71875)</td>\n",
       "      <td>Fire</td>\n",
       "    </tr>\n",
       "  </tbody>\n",
       "</table>\n",
       "<p>83 rows × 3 columns</p>\n",
       "</div>"
      ],
      "text/plain": [
       "                          Name                Centroid   Patch\n",
       "0   m_4012032_sw_10_h_20160719  (-120.09375, 40.53125)  NoFire\n",
       "1   m_3912142_sw_10_h_20160711  (-121.84375, 39.28125)  NoFire\n",
       "2   m_4012004_sw_10_h_20160720  (-120.59375, 40.90625)  NoFire\n",
       "3   m_4012021_se_10_h_20160719  (-120.40625, 40.65625)  NoFire\n",
       "4   m_4012111_ne_10_h_20160808  (-121.65625, 40.84375)  NoFire\n",
       "..                         ...                     ...     ...\n",
       "78  m_3912348_ne_10_h_20160531  (-123.03125, 39.34375)    Fire\n",
       "79  m_4012213_sw_10_h_20160713  (-122.46875, 40.78125)    Fire\n",
       "80  m_3912211_sw_10_h_20160712  (-122.71875, 39.78125)    Fire\n",
       "81  m_3912316_se_10_h_20160531  (-123.03125, 39.78125)    Fire\n",
       "82  m_3912121_nw_10_h_20160713  (-121.46875, 39.71875)    Fire\n",
       "\n",
       "[83 rows x 3 columns]"
      ]
     },
     "execution_count": 7,
     "metadata": {},
     "output_type": "execute_result"
    }
   ],
   "source": [
    "df"
   ]
  },
  {
   "cell_type": "code",
   "execution_count": 8,
   "id": "cbb617e4-c0a4-48bc-88bc-e4c264219ce9",
   "metadata": {
    "tags": []
   },
   "outputs": [
    {
     "data": {
      "text/html": [
       "<div>\n",
       "<style scoped>\n",
       "    .dataframe tbody tr th:only-of-type {\n",
       "        vertical-align: middle;\n",
       "    }\n",
       "\n",
       "    .dataframe tbody tr th {\n",
       "        vertical-align: top;\n",
       "    }\n",
       "\n",
       "    .dataframe thead th {\n",
       "        text-align: right;\n",
       "    }\n",
       "</style>\n",
       "<table border=\"1\" class=\"dataframe\">\n",
       "  <thead>\n",
       "    <tr style=\"text-align: right;\">\n",
       "      <th></th>\n",
       "      <th>Name</th>\n",
       "      <th>Centroid</th>\n",
       "      <th>Patch</th>\n",
       "    </tr>\n",
       "  </thead>\n",
       "  <tbody>\n",
       "    <tr>\n",
       "      <th>1</th>\n",
       "      <td>m_3912142_sw_10_h_20160711</td>\n",
       "      <td>(-121.84375, 39.28125)</td>\n",
       "      <td>NoFire</td>\n",
       "    </tr>\n",
       "  </tbody>\n",
       "</table>\n",
       "</div>"
      ],
      "text/plain": [
       "                         Name                Centroid   Patch\n",
       "1  m_3912142_sw_10_h_20160711  (-121.84375, 39.28125)  NoFire"
      ]
     },
     "execution_count": 8,
     "metadata": {},
     "output_type": "execute_result"
    }
   ],
   "source": [
    "df[df['Name'] == 'm_3912142_sw_10_h_20160711']"
   ]
  },
  {
   "cell_type": "code",
   "execution_count": null,
   "id": "5a344d83-2857-4361-8493-32022f60af5f",
   "metadata": {},
   "outputs": [],
   "source": []
  }
 ],
 "metadata": {
  "kernelspec": {
   "display_name": "mldl",
   "language": "python",
   "name": "mldl"
  },
  "language_info": {
   "codemirror_mode": {
    "name": "ipython",
    "version": 3
   },
   "file_extension": ".py",
   "mimetype": "text/x-python",
   "name": "python",
   "nbconvert_exporter": "python",
   "pygments_lexer": "ipython3",
   "version": "3.9.13"
  }
 },
 "nbformat": 4,
 "nbformat_minor": 5
}
