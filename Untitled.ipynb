{
 "cells": [
  {
   "cell_type": "code",
   "execution_count": null,
   "id": "f9ab1ecc-dd24-4831-96c8-7f1569e329a0",
   "metadata": {},
   "outputs": [],
   "source": []
  },
  {
   "cell_type": "code",
   "execution_count": 2,
   "id": "cb9831fc-b98c-4272-bd50-16882b882347",
   "metadata": {},
   "outputs": [
    {
     "ename": "ModuleNotFoundError",
     "evalue": "No module named 'gdal'",
     "output_type": "error",
     "traceback": [
      "\u001b[0;31m---------------------------------------------------------------------------\u001b[0m",
      "\u001b[0;31mModuleNotFoundError\u001b[0m                       Traceback (most recent call last)",
      "Cell \u001b[0;32mIn[2], line 1\u001b[0m\n\u001b[0;32m----> 1\u001b[0m \u001b[38;5;28;01mimport\u001b[39;00m \u001b[38;5;21;01mgdal\u001b[39;00m\n\u001b[1;32m      2\u001b[0m \u001b[38;5;28;01mimport\u001b[39;00m \u001b[38;5;21;01mnumpy\u001b[39;00m \u001b[38;5;28;01mas\u001b[39;00m \u001b[38;5;21;01mnp\u001b[39;00m\n\u001b[1;32m      3\u001b[0m in_file \u001b[38;5;241m=\u001b[39m \u001b[38;5;124m\"\u001b[39m\u001b[38;5;124mMCD64A1.A2006244.h31v10.061.2021106034604.hdf\u001b[39m\u001b[38;5;124m\"\u001b[39m\n",
      "\u001b[0;31mModuleNotFoundError\u001b[0m: No module named 'gdal'"
     ]
    }
   ],
   "source": [
    "import gdal\n",
    "import numpy as np\n",
    "in_file = \"MCD64A1.A2006244.h31v10.061.2021106034604.hdf\"\n",
    "hdf_handle = gdal.Open(in_file)\n",
    "# Print a list of all of the datasets within the hdf file\n",
    "sds_list = hdf_handle.GetSubDatasets()\n",
    "for sds in sds_list:\n",
    "    print(sds)\n",
    "# Open a subdataset \"N\" as an array with sds_list[N][0], values of N are:\n",
    "# 0 = ’Burn Date’, 1 = ’Burn Date Uncertainty’, 2 = ’QA’,\n",
    "# 3 = ’First Day’, 4 = ’Last Day’\n",
    "burndate_handle = gdal.Open(sds_list[0][0])\n",
    "burndate_data = burndate_handle.ReadAsArray()\n",
    "qa_handle = gdal.Open(sds_list[2][0])\n",
    "qa_data = qa_handle.ReadAsArray()\n",
    "# Array can be handled with Numpy now\n",
    "print(np.shape(burndate_data))\n",
    "print(qa_data.dtype)\n",
    "# Clean up when done\n",
    "del qa_data, qa_handle, burndate_data, burndate_handle"
   ]
  },
  {
   "cell_type": "code",
   "execution_count": null,
   "id": "255495a2-d50e-4d47-933e-8d6dc4401d35",
   "metadata": {},
   "outputs": [],
   "source": []
  }
 ],
 "metadata": {
  "kernelspec": {
   "display_name": "gee",
   "language": "python",
   "name": "gee"
  },
  "language_info": {
   "codemirror_mode": {
    "name": "ipython",
    "version": 3
   },
   "file_extension": ".py",
   "mimetype": "text/x-python",
   "name": "python",
   "nbconvert_exporter": "python",
   "pygments_lexer": "ipython3",
   "version": "3.9.17"
  }
 },
 "nbformat": 4,
 "nbformat_minor": 5
}
