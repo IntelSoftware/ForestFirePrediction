{
 "cells": [
  {
   "cell_type": "code",
   "execution_count": 1,
   "id": "45eb4509",
   "metadata": {
    "ExecuteTime": {
     "end_time": "2023-06-16T16:01:51.607888Z",
     "start_time": "2023-06-16T16:00:52.366044Z"
    }
   },
   "outputs": [
    {
     "data": {
      "text/html": [
       "<p>To authorize access needed by Earth Engine, open the following\n",
       "        URL in a web browser and follow the instructions:</p>\n",
       "        <p><a href=https://code.earthengine.google.com/client-auth?scopes=https%3A//www.googleapis.com/auth/earthengine%20https%3A//www.googleapis.com/auth/devstorage.full_control&request_id=qQZyQDPUL4XtDe1k9AsszyEPz0IjDB2MAEuKz8OyMf4&tc=Etmg4IBh4k_AAvDSuEMtHJZUQa5tNB0WPtky3pC80RI&cc=C8HLYYfbYLR9UNMqaanPOPkA14RgV0vEyQu7GTKbCp4>https://code.earthengine.google.com/client-auth?scopes=https%3A//www.googleapis.com/auth/earthengine%20https%3A//www.googleapis.com/auth/devstorage.full_control&request_id=qQZyQDPUL4XtDe1k9AsszyEPz0IjDB2MAEuKz8OyMf4&tc=Etmg4IBh4k_AAvDSuEMtHJZUQa5tNB0WPtky3pC80RI&cc=C8HLYYfbYLR9UNMqaanPOPkA14RgV0vEyQu7GTKbCp4</a></p>\n",
       "        <p>The authorization workflow will generate a code, which you should paste in the box below.</p>\n",
       "        "
      ],
      "text/plain": [
       "<IPython.core.display.HTML object>"
      ]
     },
     "metadata": {},
     "output_type": "display_data"
    },
    {
     "name": "stdout",
     "output_type": "stream",
     "text": [
      "Enter verification code: 4/1AbUR2VMs_9pxJZs3f-O30r2inCB_T07jrvGExO50cxQppZVoEcmjygqzTG4\n",
      "\n",
      "Successfully saved authorization token.\n",
      "NASADEM: NASA NASADEM Digital Elevation 30m\n"
     ]
    }
   ],
   "source": [
    "import ee\n",
    "ee.Authenticate()\n",
    "ee.Initialize()\n",
    "print(ee.Image(\"NASA/NASADEM_HGT/001\").get(\"title\").getInfo())"
   ]
  },
  {
   "cell_type": "code",
   "execution_count": 3,
   "id": "fbc132d4",
   "metadata": {
    "ExecuteTime": {
     "end_time": "2023-06-16T15:38:20.981655Z",
     "start_time": "2023-06-16T15:38:19.817312Z"
    }
   },
   "outputs": [],
   "source": [
    "import datetime\n",
    "ee_date = ee.Date('2020-01-01')\n",
    "py_date = datetime.datetime.utcfromtimestamp(ee_date.getInfo()['value']/1000.0)\n",
    "py_date = datetime.datetime.utcnow()\n",
    "ee_date = ee.Date(py_date)\n"
   ]
  },
  {
   "cell_type": "code",
   "execution_count": 6,
   "id": "fcf9d423",
   "metadata": {
    "ExecuteTime": {
     "end_time": "2023-06-16T15:39:04.407162Z",
     "start_time": "2023-06-16T15:39:04.377895Z"
    }
   },
   "outputs": [
    {
     "ename": "NameError",
     "evalue": "name 'my_geometry' is not defined",
     "output_type": "error",
     "traceback": [
      "\u001b[0;31m---------------------------------------------------------------------------\u001b[0m",
      "\u001b[0;31mNameError\u001b[0m                                 Traceback (most recent call last)",
      "Cell \u001b[0;32mIn[6], line 4\u001b[0m\n\u001b[1;32m      1\u001b[0m my_image \u001b[38;5;241m=\u001b[39m ee\u001b[38;5;241m.\u001b[39mImage(\u001b[38;5;124m'\u001b[39m\u001b[38;5;124mLANDSAT/LT05/C01/T1_SR/LT05_034033_20000913\u001b[39m\u001b[38;5;124m'\u001b[39m)\n\u001b[1;32m      3\u001b[0m task \u001b[38;5;241m=\u001b[39m ee\u001b[38;5;241m.\u001b[39mbatch\u001b[38;5;241m.\u001b[39mExport\u001b[38;5;241m.\u001b[39mimage\u001b[38;5;241m.\u001b[39mtoDrive(image\u001b[38;5;241m=\u001b[39mmy_image,  \u001b[38;5;66;03m# an ee.Image object.\u001b[39;00m\n\u001b[0;32m----> 4\u001b[0m                                      region\u001b[38;5;241m=\u001b[39m\u001b[43mmy_geometry\u001b[49m,  \u001b[38;5;66;03m# an ee.Geometry object.\u001b[39;00m\n\u001b[1;32m      5\u001b[0m                                      description\u001b[38;5;241m=\u001b[39m\u001b[38;5;124m'\u001b[39m\u001b[38;5;124mmock_export\u001b[39m\u001b[38;5;124m'\u001b[39m,\n\u001b[1;32m      6\u001b[0m                                      folder\u001b[38;5;241m=\u001b[39m\u001b[38;5;124m'\u001b[39m\u001b[38;5;124mgdrive_folder\u001b[39m\u001b[38;5;124m'\u001b[39m,\n\u001b[1;32m      7\u001b[0m                                      fileNamePrefix\u001b[38;5;241m=\u001b[39m\u001b[38;5;124m'\u001b[39m\u001b[38;5;124mmock_export\u001b[39m\u001b[38;5;124m'\u001b[39m,\n\u001b[1;32m      8\u001b[0m                                      scale\u001b[38;5;241m=\u001b[39m\u001b[38;5;241m1000\u001b[39m,\n\u001b[1;32m      9\u001b[0m                                      crs\u001b[38;5;241m=\u001b[39m\u001b[38;5;124m'\u001b[39m\u001b[38;5;124mEPSG:4326\u001b[39m\u001b[38;5;124m'\u001b[39m)\n",
      "\u001b[0;31mNameError\u001b[0m: name 'my_geometry' is not defined"
     ]
    }
   ],
   "source": [
    "my_image = ee.Image('LANDSAT/LT05/C01/T1_SR/LT05_034033_20000913')\n",
    "\n",
    "task = ee.batch.Export.image.toDrive(image=my_image,  # an ee.Image object.\n",
    "                                     region=my_geometry,  # an ee.Geometry object.\n",
    "                                     description='mock_export',\n",
    "                                     folder='gdrive_folder',\n",
    "                                     fileNamePrefix='mock_export',\n",
    "                                     scale=1000,\n",
    "                                     crs='EPSG:4326')\n"
   ]
  },
  {
   "cell_type": "markdown",
   "id": "d2e9a061",
   "metadata": {
    "ExecuteTime": {
     "end_time": "2023-06-16T16:05:05.078584Z",
     "start_time": "2023-06-16T16:05:05.070649Z"
    }
   },
   "source": [
    "# Example from Satellite Imagery using Google Earth Engine and Python\n",
    "\n",
    "https://www.askpython.com/python/examples/satellite-imagery-google-earth"
   ]
  },
  {
   "cell_type": "code",
   "execution_count": 17,
   "id": "8b17b213",
   "metadata": {
    "ExecuteTime": {
     "end_time": "2023-06-16T16:06:03.077904Z",
     "start_time": "2023-06-16T16:06:03.073011Z"
    }
   },
   "outputs": [],
   "source": [
    "collection = ee.ImageCollection('NOAA/DMSP-OLS/NIGHTTIME_LIGHTS')"
   ]
  },
  {
   "cell_type": "markdown",
   "id": "5efe389e",
   "metadata": {},
   "source": [
    "# 4. Working with the ImageCollection\n",
    "\n",
    "The most important aspect that separates normal photos from satellite images is the spectrum of the images is way beyond the normal 0-255 range. The images have different bands which can be compared to the channels(RGB) of the normal image. Each band captures a different electromagnetic spectrum."
   ]
  },
  {
   "cell_type": "code",
   "execution_count": 18,
   "id": "dbadd20a",
   "metadata": {
    "ExecuteTime": {
     "end_time": "2023-06-16T16:06:03.845484Z",
     "start_time": "2023-06-16T16:06:03.840427Z"
    }
   },
   "outputs": [],
   "source": [
    "first_image = collection.first()"
   ]
  },
  {
   "cell_type": "code",
   "execution_count": 19,
   "id": "9027037f",
   "metadata": {
    "ExecuteTime": {
     "end_time": "2023-06-16T16:06:05.763175Z",
     "start_time": "2023-06-16T16:06:04.540304Z"
    }
   },
   "outputs": [
    {
     "data": {
      "text/plain": [
       "['avg_vis', 'stable_lights', 'cf_cvg', 'avg_lights_x_pct']"
      ]
     },
     "execution_count": 19,
     "metadata": {},
     "output_type": "execute_result"
    }
   ],
   "source": [
    "# Now we see what bands each image in the image collection have:\n",
    "first_image.bandNames().getInfo()"
   ]
  },
  {
   "cell_type": "markdown",
   "id": "97c391d7",
   "metadata": {},
   "source": [
    "We need the stable_lights band for visualization. Selecting one band from each image from the collection is time consuming, but luckily earth-engine offers a way to select one band from a collection of images."
   ]
  },
  {
   "cell_type": "code",
   "execution_count": 5,
   "id": "4afb3257",
   "metadata": {
    "ExecuteTime": {
     "end_time": "2023-06-16T16:01:57.879482Z",
     "start_time": "2023-06-16T16:01:57.876601Z"
    }
   },
   "outputs": [],
   "source": [
    "collection = collection.select('stable_lights')"
   ]
  },
  {
   "cell_type": "markdown",
   "id": "478818cf",
   "metadata": {},
   "source": [
    "Now each image in the image collection has a single band. To visualize the change over time will be needing another band that will represent the time."
   ]
  },
  {
   "cell_type": "code",
   "execution_count": 6,
   "id": "c8daa503",
   "metadata": {
    "ExecuteTime": {
     "end_time": "2023-06-16T16:01:59.093488Z",
     "start_time": "2023-06-16T16:01:57.881435Z"
    }
   },
   "outputs": [
    {
     "data": {
      "text/plain": [
       "['constant', 'stable_lights']"
      ]
     },
     "execution_count": 6,
     "metadata": {},
     "output_type": "execute_result"
    }
   ],
   "source": [
    "first_image = collection.first()\n",
    " \n",
    "# Get number of years after 1991 from the first image\n",
    "year = ee.Date(first_image.get('system:time_start')).get('year').subtract(1991)\n",
    " \n",
    "# Turn it into a band\n",
    "img1 = ee.Image(year).byte().addBands(first_image)\n",
    " \n",
    "# A new band appears in the new image\n",
    "img1.bandNames().getInfo()"
   ]
  },
  {
   "cell_type": "markdown",
   "id": "de4b8919",
   "metadata": {},
   "source": [
    "We need to do this for every image in the collection. So we create a function and map it over the collection."
   ]
  },
  {
   "cell_type": "code",
   "execution_count": 7,
   "id": "72e50257",
   "metadata": {
    "ExecuteTime": {
     "end_time": "2023-06-16T16:01:59.100422Z",
     "start_time": "2023-06-16T16:01:59.095779Z"
    }
   },
   "outputs": [],
   "source": [
    "def createTimeBand(img):\n",
    "    year = ee.Date(img.get('system:time_start')).get('year').subtract(1991)\n",
    "    return ee.Image(year).byte().addBands(img)\n",
    " \n",
    "# Map it to the collection to create a new collection\n",
    "collection = collection.map(createTimeBand)"
   ]
  },
  {
   "cell_type": "markdown",
   "id": "00387b8e",
   "metadata": {},
   "source": [
    "# 5. Visualize the night-lights\n",
    "\n",
    "Now that we have our ImageCollection ready to be displayed, we need a UI to display the images. There are a lot of UI options available like Folium, matplotlib, PIL, etc.\n",
    "\n",
    "In this tutorial, we have chosen Folium. Folium is a python library based on leaflet.js (open-source JavaScript library for mobile-friendly interactive maps) that you can use to make interactive maps. Folium supports WMS, GeoJSON layers, vector layers, and tile layers which make it very convenient and straightforward to visualize the data we manipulate with python.\n",
    "\n",
    "Now we need to define how to display the google earth images in folium. Here is a function that comes very handy to use with Folium and Earth-Engine."
   ]
  },
  {
   "cell_type": "code",
   "execution_count": 9,
   "id": "001b8586",
   "metadata": {
    "ExecuteTime": {
     "end_time": "2023-06-16T16:02:26.038082Z",
     "start_time": "2023-06-16T16:02:25.659428Z"
    }
   },
   "outputs": [],
   "source": [
    "# Define a method for displaying Earth Engine image tiles to folium map.\n",
    "import folium\n",
    "def add_ee_layer(self, ee_image_object, vis_params, name):\n",
    "  map_id_dict = ee.Image(ee_image_object).getMapId(vis_params)\n",
    "  folium.raster_layers.TileLayer(\n",
    "    tiles = map_id_dict['tile_fetcher'].url_format,\n",
    "    attr = 'Map Data © <a href=\"https://earthengine.google.com/\">Google Earth Engine</a>',\n",
    "    name = name,\n",
    "    overlay = True,\n",
    "    control = True\n",
    "  ).add_to(self)\n",
    " \n",
    "# Add EE drawing method to folium.\n",
    "folium.Map.add_ee_layer = add_ee_layer"
   ]
  },
  {
   "cell_type": "markdown",
   "id": "bd55303a",
   "metadata": {},
   "source": [
    "Now we can create a map, giving the initial coordinates and the zoom factor. Don’t worry if you get it a little wrong. Folium is interactive, which means you can change the location and zoom while you are visualizing the map."
   ]
  },
  {
   "cell_type": "code",
   "execution_count": 10,
   "id": "5be49670",
   "metadata": {
    "ExecuteTime": {
     "end_time": "2023-06-16T16:03:00.702114Z",
     "start_time": "2023-06-16T16:03:00.696768Z"
    }
   },
   "outputs": [],
   "source": [
    "night_map = folium.Map(location=[37.5010, -102.1899], zoom_start=4.5)"
   ]
  },
  {
   "cell_type": "markdown",
   "id": "b587debc",
   "metadata": {},
   "source": [
    "We need to set some parameters for displaying the image, such as the bands and colour preferences of each. Here is a default setting that you might like."
   ]
  },
  {
   "cell_type": "code",
   "execution_count": 11,
   "id": "ca18d3e6",
   "metadata": {
    "ExecuteTime": {
     "end_time": "2023-06-16T16:03:14.047803Z",
     "start_time": "2023-06-16T16:03:14.044859Z"
    }
   },
   "outputs": [],
   "source": [
    "params = {\n",
    "    'bands' :  ['scale', 'offset', 'scale'],\n",
    "    'min' : 0,\n",
    "    'max' : [0.18, 20, -0.18],\n",
    "}"
   ]
  },
  {
   "cell_type": "markdown",
   "id": "d6eb5d68",
   "metadata": {},
   "source": [
    "Before we visualize, we have one final step. We need to reduce the image using LinearFit method which computes the least squares estimate of a linear function of one variable with a constant term."
   ]
  },
  {
   "cell_type": "code",
   "execution_count": 12,
   "id": "fff2da4e",
   "metadata": {
    "ExecuteTime": {
     "end_time": "2023-06-16T16:03:28.765834Z",
     "start_time": "2023-06-16T16:03:28.762065Z"
    }
   },
   "outputs": [],
   "source": [
    "night_light = collection.reduce(ee.Reducer.linearFit())"
   ]
  },
  {
   "cell_type": "markdown",
   "id": "b0b0920a",
   "metadata": {},
   "source": [
    "Add the image and parameters to the map and display the map."
   ]
  },
  {
   "cell_type": "code",
   "execution_count": 14,
   "id": "63ff5ea3",
   "metadata": {
    "ExecuteTime": {
     "end_time": "2023-06-16T16:04:10.836074Z",
     "start_time": "2023-06-16T16:04:09.530274Z"
    }
   },
   "outputs": [
    {
     "data": {
      "text/html": [
       "<div style=\"width:100%;\"><div style=\"position:relative;width:100%;height:0;padding-bottom:60%;\"><span style=\"color:#565656\">Make this Notebook Trusted to load map: File -> Trust Notebook</span><iframe srcdoc=\"&lt;!DOCTYPE html&gt;\n",
       "&lt;html&gt;\n",
       "&lt;head&gt;\n",
       "    \n",
       "    &lt;meta http-equiv=&quot;content-type&quot; content=&quot;text/html; charset=UTF-8&quot; /&gt;\n",
       "    \n",
       "        &lt;script&gt;\n",
       "            L_NO_TOUCH = false;\n",
       "            L_DISABLE_3D = false;\n",
       "        &lt;/script&gt;\n",
       "    \n",
       "    &lt;style&gt;html, body {width: 100%;height: 100%;margin: 0;padding: 0;}&lt;/style&gt;\n",
       "    &lt;style&gt;#map {position:absolute;top:0;bottom:0;right:0;left:0;}&lt;/style&gt;\n",
       "    &lt;script src=&quot;https://cdn.jsdelivr.net/npm/leaflet@1.9.3/dist/leaflet.js&quot;&gt;&lt;/script&gt;\n",
       "    &lt;script src=&quot;https://code.jquery.com/jquery-1.12.4.min.js&quot;&gt;&lt;/script&gt;\n",
       "    &lt;script src=&quot;https://cdn.jsdelivr.net/npm/bootstrap@5.2.2/dist/js/bootstrap.bundle.min.js&quot;&gt;&lt;/script&gt;\n",
       "    &lt;script src=&quot;https://cdnjs.cloudflare.com/ajax/libs/Leaflet.awesome-markers/2.0.2/leaflet.awesome-markers.js&quot;&gt;&lt;/script&gt;\n",
       "    &lt;link rel=&quot;stylesheet&quot; href=&quot;https://cdn.jsdelivr.net/npm/leaflet@1.9.3/dist/leaflet.css&quot;/&gt;\n",
       "    &lt;link rel=&quot;stylesheet&quot; href=&quot;https://cdn.jsdelivr.net/npm/bootstrap@5.2.2/dist/css/bootstrap.min.css&quot;/&gt;\n",
       "    &lt;link rel=&quot;stylesheet&quot; href=&quot;https://netdna.bootstrapcdn.com/bootstrap/3.0.0/css/bootstrap.min.css&quot;/&gt;\n",
       "    &lt;link rel=&quot;stylesheet&quot; href=&quot;https://cdn.jsdelivr.net/npm/@fortawesome/fontawesome-free@6.2.0/css/all.min.css&quot;/&gt;\n",
       "    &lt;link rel=&quot;stylesheet&quot; href=&quot;https://cdnjs.cloudflare.com/ajax/libs/Leaflet.awesome-markers/2.0.2/leaflet.awesome-markers.css&quot;/&gt;\n",
       "    &lt;link rel=&quot;stylesheet&quot; href=&quot;https://cdn.jsdelivr.net/gh/python-visualization/folium/folium/templates/leaflet.awesome.rotate.min.css&quot;/&gt;\n",
       "    \n",
       "            &lt;meta name=&quot;viewport&quot; content=&quot;width=device-width,\n",
       "                initial-scale=1.0, maximum-scale=1.0, user-scalable=no&quot; /&gt;\n",
       "            &lt;style&gt;\n",
       "                #map_86bdc680f0db161e8b9dad424d7fd80a {\n",
       "                    position: relative;\n",
       "                    width: 100.0%;\n",
       "                    height: 100.0%;\n",
       "                    left: 0.0%;\n",
       "                    top: 0.0%;\n",
       "                }\n",
       "                .leaflet-container { font-size: 1rem; }\n",
       "            &lt;/style&gt;\n",
       "        \n",
       "&lt;/head&gt;\n",
       "&lt;body&gt;\n",
       "    \n",
       "    \n",
       "            &lt;div class=&quot;folium-map&quot; id=&quot;map_86bdc680f0db161e8b9dad424d7fd80a&quot; &gt;&lt;/div&gt;\n",
       "        \n",
       "&lt;/body&gt;\n",
       "&lt;script&gt;\n",
       "    \n",
       "    \n",
       "            var map_86bdc680f0db161e8b9dad424d7fd80a = L.map(\n",
       "                &quot;map_86bdc680f0db161e8b9dad424d7fd80a&quot;,\n",
       "                {\n",
       "                    center: [37.501, -102.1899],\n",
       "                    crs: L.CRS.EPSG3857,\n",
       "                    zoom: 4.5,\n",
       "                    zoomControl: true,\n",
       "                    preferCanvas: false,\n",
       "                }\n",
       "            );\n",
       "\n",
       "            \n",
       "\n",
       "        \n",
       "    \n",
       "            var tile_layer_c6d6b223b6bb60862211669a8eba7104 = L.tileLayer(\n",
       "                &quot;https://{s}.tile.openstreetmap.org/{z}/{x}/{y}.png&quot;,\n",
       "                {&quot;attribution&quot;: &quot;Data by \\u0026copy; \\u003ca target=\\&quot;_blank\\&quot; href=\\&quot;http://openstreetmap.org\\&quot;\\u003eOpenStreetMap\\u003c/a\\u003e, under \\u003ca target=\\&quot;_blank\\&quot; href=\\&quot;http://www.openstreetmap.org/copyright\\&quot;\\u003eODbL\\u003c/a\\u003e.&quot;, &quot;detectRetina&quot;: false, &quot;maxNativeZoom&quot;: 18, &quot;maxZoom&quot;: 18, &quot;minZoom&quot;: 0, &quot;noWrap&quot;: false, &quot;opacity&quot;: 1, &quot;subdomains&quot;: &quot;abc&quot;, &quot;tms&quot;: false}\n",
       "            ).addTo(map_86bdc680f0db161e8b9dad424d7fd80a);\n",
       "        \n",
       "    \n",
       "            var tile_layer_db2391b7d51a49afe74919b11ac35eab = L.tileLayer(\n",
       "                &quot;https://earthengine.googleapis.com/v1alpha/projects/earthengine-legacy/maps/295c4c884593fb86efc53f1b1fc52ea1-1810c6ed41214ea8175b74bb012454e6/tiles/{z}/{x}/{y}&quot;,\n",
       "                {&quot;attribution&quot;: &quot;Map Data \\u00a9 \\u003ca href=\\&quot;https://earthengine.google.com/\\&quot;\\u003eGoogle Earth Engine\\u003c/a\\u003e&quot;, &quot;detectRetina&quot;: false, &quot;maxNativeZoom&quot;: 18, &quot;maxZoom&quot;: 18, &quot;minZoom&quot;: 0, &quot;noWrap&quot;: false, &quot;opacity&quot;: 1, &quot;subdomains&quot;: &quot;abc&quot;, &quot;tms&quot;: false}\n",
       "            ).addTo(map_86bdc680f0db161e8b9dad424d7fd80a);\n",
       "        \n",
       "    \n",
       "            var tile_layer_1d1108ca556389a6b4a70c1f2b472955 = L.tileLayer(\n",
       "                &quot;https://earthengine.googleapis.com/v1alpha/projects/earthengine-legacy/maps/295c4c884593fb86efc53f1b1fc52ea1-5e8d23e02ed9237719cb1fcef61e1f71/tiles/{z}/{x}/{y}&quot;,\n",
       "                {&quot;attribution&quot;: &quot;Map Data \\u00a9 \\u003ca href=\\&quot;https://earthengine.google.com/\\&quot;\\u003eGoogle Earth Engine\\u003c/a\\u003e&quot;, &quot;detectRetina&quot;: false, &quot;maxNativeZoom&quot;: 18, &quot;maxZoom&quot;: 18, &quot;minZoom&quot;: 0, &quot;noWrap&quot;: false, &quot;opacity&quot;: 1, &quot;subdomains&quot;: &quot;abc&quot;, &quot;tms&quot;: false}\n",
       "            ).addTo(map_86bdc680f0db161e8b9dad424d7fd80a);\n",
       "        \n",
       "&lt;/script&gt;\n",
       "&lt;/html&gt;\" style=\"position:absolute;width:100%;height:100%;left:0;top:0;border:none !important;\" allowfullscreen webkitallowfullscreen mozallowfullscreen></iframe></div></div>"
      ],
      "text/plain": [
       "<folium.folium.Map at 0x7f0b93e0fd60>"
      ]
     },
     "metadata": {},
     "output_type": "display_data"
    }
   ],
   "source": [
    "# Add the image layer to the night_map\n",
    "night_map.add_ee_layer(night_light, params, 'test')\n",
    " \n",
    "# Display the map\n",
    "display(night_map)"
   ]
  },
  {
   "cell_type": "code",
   "execution_count": null,
   "id": "fca55136",
   "metadata": {},
   "outputs": [],
   "source": []
  }
 ],
 "metadata": {
  "kernelspec": {
   "display_name": "GEE",
   "language": "python",
   "name": "gee"
  },
  "language_info": {
   "codemirror_mode": {
    "name": "ipython",
    "version": 3
   },
   "file_extension": ".py",
   "mimetype": "text/x-python",
   "name": "python",
   "nbconvert_exporter": "python",
   "pygments_lexer": "ipython3",
   "version": "3.9.16"
  }
 },
 "nbformat": 4,
 "nbformat_minor": 5
}
