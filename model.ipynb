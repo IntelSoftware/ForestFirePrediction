{
 "cells": [
  {
   "cell_type": "code",
   "execution_count": 2,
   "id": "af642901-7cd9-4ed1-a2ba-417a8951dc12",
   "metadata": {},
   "outputs": [
    {
     "name": "stdout",
     "output_type": "stream",
     "text": [
      "Device set to xpu by user.\n",
      "OMP_NUM_THREADS set to: 112\n"
     ]
    }
   ],
   "source": [
    "# %load model.py\n",
    "from config import torch\n",
    "import torch.nn as nn\n",
    "import torchvision.models as models\n",
    "\n",
    "\n",
    "class FireFinder(nn.Module):\n",
    "    \"\"\"\n",
    "    A model to classify aerial images that could potentially Fire from satellite images\n",
    "    We are using a pretrained resnet backbone model\n",
    "    and images given to model are classified into one of 3 classes.\n",
    "    0 - no Fire\n",
    "    1 - Fire\n",
    "\n",
    "    We currently use the resnet50 model as a backbone\n",
    "    \"\"\"\n",
    "\n",
    "    def __init__(\n",
    "        self,\n",
    "        backbone=\"resnet18\",\n",
    "        simple=True,\n",
    "        dropout=0.4,\n",
    "        n_classes=2,\n",
    "        feature_extractor=False,\n",
    "    ):\n",
    "        super(FireFinder, self).__init__()\n",
    "        backbones = {\n",
    "            \"resnet18\": models.resnet18,\n",
    "            \"resnet34\": models.resnet34,\n",
    "            \"resnet50\": models.resnet50,\n",
    "            \"resnet101\": models.resnet101,\n",
    "            \"efficientnet_b0\": lambda pretrained: models.efficientnet_b0(\n",
    "                pretrained=pretrained\n",
    "            ),\n",
    "        }\n",
    "        try:\n",
    "            self.network = backbones[backbone](pretrained=True)\n",
    "            if backbone == \"efficientnet_b0\":\n",
    "                self.network.classifier[1] = nn.Linear(1280, n_classes)\n",
    "            else:\n",
    "                self.network.fc = nn.Linear(self.network.fc.in_features, n_classes)\n",
    "        except KeyError:\n",
    "            raise ValueError(f\"Backbone model '{backbone}' not found\")\n",
    "\n",
    "        if feature_extractor:\n",
    "            print(\"Running in future extractor mode.\")\n",
    "            for param in self.network.parameters():\n",
    "                param.requires_grad = False\n",
    "        else:\n",
    "            print(\"Running in Finetuning mode.\")\n",
    "\n",
    "        for m, p in zip(self.network.modules(), self.network.parameters()):\n",
    "            if isinstance(m, nn.BatchNorm2d):\n",
    "                p.requires_grad = False\n",
    "\n",
    "        if not simple and backbone != \"efficientnet_b0\":\n",
    "            fc = nn.Sequential(\n",
    "                nn.Linear(self.network.fc.in_features, 256),\n",
    "                nn.ReLU(),\n",
    "                nn.Dropout(dropout),\n",
    "                nn.Linear(256, n_classes),\n",
    "            )\n",
    "            for layer in fc.modules():\n",
    "                if isinstance(layer, nn.Linear):\n",
    "                    nn.init.xavier_uniform_(layer.weight)\n",
    "            self.network.fc = fc\n",
    "\n",
    "    def forward(self, x_batch):\n",
    "        return self.network(x_batch)\n"
   ]
  },
  {
   "cell_type": "code",
   "execution_count": null,
   "id": "ef2663c3-bba7-4fc7-b8d1-6dda01b267e5",
   "metadata": {},
   "outputs": [],
   "source": []
  }
 ],
 "metadata": {
  "kernelspec": {
   "display_name": "PT",
   "language": "python",
   "name": "pt"
  },
  "language_info": {
   "codemirror_mode": {
    "name": "ipython",
    "version": 3
   },
   "file_extension": ".py",
   "mimetype": "text/x-python",
   "name": "python",
   "nbconvert_exporter": "python",
   "pygments_lexer": "ipython3",
   "version": "3.10.11"
  }
 },
 "nbformat": 4,
 "nbformat_minor": 5
}
