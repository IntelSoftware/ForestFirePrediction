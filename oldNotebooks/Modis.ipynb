{
 "cells": [
  {
   "cell_type": "code",
   "execution_count": 1,
   "id": "46779d17",
   "metadata": {},
   "outputs": [
    {
     "data": {
      "text/html": [
       "<p>To authorize access needed by Earth Engine, open the following\n",
       "        URL in a web browser and follow the instructions:</p>\n",
       "        <p><a href=https://code.earthengine.google.com/client-auth?scopes=https%3A//www.googleapis.com/auth/earthengine%20https%3A//www.googleapis.com/auth/devstorage.full_control&request_id=QORQKQvpEs2ciXtGjjNvkg0VoOHRvv-1IZAUoBA8szE&tc=trNv-KINcqGJTenfvh8zuFJBi6mRaymcFvSW68u952g&cc=apsTYQd6W7xIlOWlH8GrPmczHrO0KPISsa8doMw0lBo>https://code.earthengine.google.com/client-auth?scopes=https%3A//www.googleapis.com/auth/earthengine%20https%3A//www.googleapis.com/auth/devstorage.full_control&request_id=QORQKQvpEs2ciXtGjjNvkg0VoOHRvv-1IZAUoBA8szE&tc=trNv-KINcqGJTenfvh8zuFJBi6mRaymcFvSW68u952g&cc=apsTYQd6W7xIlOWlH8GrPmczHrO0KPISsa8doMw0lBo</a></p>\n",
       "        <p>The authorization workflow will generate a code, which you should paste in the box below.</p>\n",
       "        "
      ],
      "text/plain": [
       "<IPython.core.display.HTML object>"
      ]
     },
     "metadata": {},
     "output_type": "display_data"
    },
    {
     "name": "stdin",
     "output_type": "stream",
     "text": [
      "Enter verification code:  4/1AZEOvhVvLpIMoWOgmAb25azsNZCBydEoCf4CmWLbcFHdTSZLSxFDSVPAT40\n"
     ]
    },
    {
     "name": "stdout",
     "output_type": "stream",
     "text": [
      "\n",
      "Successfully saved authorization token.\n"
     ]
    }
   ],
   "source": [
    "import geemap\n",
    "import ee\n",
    "\n",
    "# If it is not yet authenticated, uncomment the line below\n",
    "ee.Authenticate()"
   ]
  },
  {
   "cell_type": "code",
   "execution_count": 2,
   "id": "a978bfdc",
   "metadata": {
    "ExecuteTime": {
     "end_time": "2023-06-16T16:29:42.446653Z",
     "start_time": "2023-06-16T16:29:37.173703Z"
    },
    "scrolled": true,
    "tags": []
   },
   "outputs": [
    {
     "name": "stdout",
     "output_type": "stream",
     "text": [
      "FeatureCollection from a list of features: {'type': 'FeatureCollection', 'columns': {'system:index': 'String'}, 'features': [{'type': 'Feature', 'geometry': {'type': 'Point', 'coordinates': [-121.31620000000001, 39.887]}, 'id': '0', 'properties': {}}, {'type': 'Feature', 'geometry': {'type': 'Point', 'coordinates': [-121.3242, 39.879]}, 'id': '1', 'properties': {}}, {'type': 'Feature', 'geometry': {'type': 'Point', 'coordinates': [-121.3352, 39.897999999999996]}, 'id': '2', 'properties': {}}]}\n",
      "FeatureCollection from a list of features: {'type': 'FeatureCollection', 'columns': {'system:index': 'String'}, 'features': [{'type': 'Feature', 'geometry': {'type': 'Point', 'coordinates': [-121.64620000000001, 39.957]}, 'id': '0', 'properties': {}}, {'type': 'Feature', 'geometry': {'type': 'Point', 'coordinates': [-121.6542, 39.949]}, 'id': '1', 'properties': {}}, {'type': 'Feature', 'geometry': {'type': 'Point', 'coordinates': [-121.6652, 39.967999999999996]}, 'id': '2', 'properties': {}}]}\n"
     ]
    },
    {
     "data": {
      "application/vnd.jupyter.widget-view+json": {
       "model_id": "4662c1b798044428b56385ca1a54d302",
       "version_major": 2,
       "version_minor": 0
      },
      "text/plain": [
       "Map(center=[39.976, -121.6252], controls=(WidgetControl(options=['position', 'transparent_bg'], widget=HBox(ch…"
      ]
     },
     "execution_count": 2,
     "metadata": {},
     "output_type": "execute_result"
    }
   ],
   "source": [
    "import geemap\n",
    "import ee\n",
    "\n",
    "ee.Initialize()\n",
    "\n",
    "#aoi = ee.Geometry(Point([-48.4, -23]))\n",
    "\n",
    "fire = ee.ImageCollection('MODIS/006/MCD64A1').filter(ee.Filter.date('2018-01-01', '2020-12-31'))\n",
    "\n",
    "burnedArea = fire.select('BurnDate')\n",
    "burnedAreaVis = {\n",
    "  'min': 30.0,\n",
    "  'max': 341.0,\n",
    "  'opacity': 0.5,\n",
    "  'palette': ['4e0400', '951003', 'c61503', 'ff1901'],\n",
    "}\n",
    "\n",
    "img = fire.first()\n",
    "cld = fire.first()\n",
    "\n",
    "Map = geemap.Map(center=(39.9760,-121.6252), zoom=12)\n",
    "#Map.addLayer(cld, {'min': 0, 'max': 100, 'palette': ['purple', 'yellow']}, 'Cloud Probability', True, 1)\n",
    "# point1 = ee.Geometry.Point([-121.6252,39.9760])\n",
    "# Map.addLayer(point1, {'color': 'eb0000', 'width': 5}, 'Point')\n",
    "# point2 = ee.Geometry.Point([-121.6252,39.9780])\n",
    "# Map.addLayer(point2, {'color': '1c5f2c', 'width': 10}, 'Point')\n",
    "# points = ee.FeatureCollection.([[-121.082, 39.9760], [-121.6252, 39.9790]]);\n",
    "# Map.addLayer(multiPoint,\n",
    "#              {'color': 'black'},\n",
    "#              'Geometry [black]: multiPoint');\n",
    "Map.addLayer(burnedArea, burnedAreaVis, 'Burned Area')\n",
    "# FeatureCollection from a list of features.\n",
    "list_fire = [\n",
    "    ee.Feature(ee.Geometry.Point(-121.6162 + .3, 39.9870 - .1)),\n",
    "    ee.Feature(ee.Geometry.Point(-121.6242 + .3, 39.9790 - .1)),\n",
    "    ee.Feature(ee.Geometry.Point(-121.6352 + .3, 39.9980 - .1))\n",
    "]\n",
    "list_of_fire_fc = ee.FeatureCollection(list_fire)\n",
    "print('FeatureCollection from a list of features:',\n",
    "      list_of_fire_fc.getInfo())\n",
    "Map.addLayer(list_of_fire_fc, {'color':'red', 'pointSize': 3, 'width': 10})\n",
    "list_nofire = [\n",
    "    ee.Feature(ee.Geometry.Point(-121.6162 -.03, 39.9870 -.03)),\n",
    "    ee.Feature(ee.Geometry.Point(-121.6242 -.03, 39.9790 -.03)),\n",
    "    ee.Feature(ee.Geometry.Point(-121.6352 -.03, 39.9980 -.03))\n",
    "]\n",
    "list_of_nofire_fc = ee.FeatureCollection(list_nofire)\n",
    "print('FeatureCollection from a list of features:',\n",
    "      list_of_nofire_fc.getInfo())\n",
    "Map.addLayer(list_of_nofire_fc, {'color':'green', 'pointSize': 2, 'width': 10})\n",
    "Map"
   ]
  },
  {
   "cell_type": "code",
   "execution_count": 10,
   "id": "07c328b4-18cd-47b9-bacc-d95cd8caa74b",
   "metadata": {
    "tags": []
   },
   "outputs": [
    {
     "name": "stdout",
     "output_type": "stream",
     "text": [
      "easting Northing Max [-122.2569206    40.39386194]\n",
      "easting Northing Min [-123.8004997    39.09726849]\n"
     ]
    }
   ],
   "source": [
    "import numpy as np\n",
    "western_fire_zone = np.array(\n",
    "[[-123.80049969972843,40.372940505583315],\n",
    "[-122.31734540285343,40.3938619357883],\n",
    "[-122.25692059816593,39.101531478641654],\n",
    "[-123.79500653566593,39.09726849212999]])\n",
    "\n",
    "print(\"easting Northing Max\",western_fire_zone.max(axis=0))\n",
    "print(\"easting Northing Min\",western_fire_zone.min(axis=0))\n",
    "lats_western = np.random.uniform("
   ]
  },
  {
   "cell_type": "code",
   "execution_count": 21,
   "id": "19853144-8046-4a34-99fc-1f32686a4cd3",
   "metadata": {
    "tags": []
   },
   "outputs": [
    {
     "name": "stdout",
     "output_type": "stream",
     "text": [
      "Max North 40.3938619357883\n",
      "Min North 39.09726849212999\n",
      "Max East -122.25692059816593\n",
      "Min West -123.80049969972843\n"
     ]
    }
   ],
   "source": [
    "MaxNorth = max(western_fire_zone.max(axis=1))\n",
    "MaxSouth = min(western_fire_zone.max(axis=1)) \n",
    "MaxEast = max(western_fire_zone.min(axis=1))\n",
    "MaxWest = min(western_fire_zone.min(axis=1))\n",
    "\n",
    "print(\"Max North\", MaxNorth)\n",
    "print(\"Min North\", MaxSouth)\n",
    "print(\"Max East\", MaxEast)\n",
    "print(\"Min West\", MaxWest)"
   ]
  },
  {
   "cell_type": "code",
   "execution_count": 54,
   "id": "fec1a369-950e-4859-aa71-119cf15ef449",
   "metadata": {
    "tags": []
   },
   "outputs": [
    {
     "data": {
      "text/plain": [
       "[(-122.82347396252597, 39.93080410527201),\n",
       " (-122.51319404724461, 39.25979982755465),\n",
       " (-123.27415443350758, 40.05292798516069),\n",
       " (-123.08705820821359, 39.403472656453374),\n",
       " (-122.5243000586546, 40.20602871930982),\n",
       " (-122.63859043488806, 40.32929938121094),\n",
       " (-123.3192665643507, 39.36190829758513),\n",
       " (-123.47809486356249, 39.49820946306285),\n",
       " (-123.62506950778328, 39.198797282667634),\n",
       " (-122.89505665429989, 39.462108233064995)]"
      ]
     },
     "execution_count": 54,
     "metadata": {},
     "output_type": "execute_result"
    }
   ],
   "source": [
    "N = 10\n",
    "lats = np.random.uniform(MaxSouth, MaxNorth,[N])\n",
    "longs = np.random.uniform(MaxEast, MaxWest, [N])\n",
    "coords = list(zip(longs.tolist(),lats.tolist()))\n",
    "coords"
   ]
  },
  {
   "cell_type": "code",
   "execution_count": 55,
   "id": "4eccfc6d",
   "metadata": {
    "tags": []
   },
   "outputs": [
    {
     "name": "stdout",
     "output_type": "stream",
     "text": [
      "FeatureCollection from a list of features: {'type': 'FeatureCollection', 'columns': {'system:index': 'String'}, 'features': [{'type': 'Feature', 'geometry': {'type': 'Point', 'coordinates': [-122.82347396252597, 39.93080410527201]}, 'id': '0', 'properties': {}}, {'type': 'Feature', 'geometry': {'type': 'Point', 'coordinates': [-122.51319404724461, 39.25979982755465]}, 'id': '1', 'properties': {}}, {'type': 'Feature', 'geometry': {'type': 'Point', 'coordinates': [-123.27415443350758, 40.05292798516069]}, 'id': '2', 'properties': {}}, {'type': 'Feature', 'geometry': {'type': 'Point', 'coordinates': [-123.08705820821359, 39.403472656453374]}, 'id': '3', 'properties': {}}, {'type': 'Feature', 'geometry': {'type': 'Point', 'coordinates': [-122.5243000586546, 40.20602871930982]}, 'id': '4', 'properties': {}}, {'type': 'Feature', 'geometry': {'type': 'Point', 'coordinates': [-122.63859043488806, 40.32929938121094]}, 'id': '5', 'properties': {}}, {'type': 'Feature', 'geometry': {'type': 'Point', 'coordinates': [-123.3192665643507, 39.36190829758513]}, 'id': '6', 'properties': {}}, {'type': 'Feature', 'geometry': {'type': 'Point', 'coordinates': [-123.47809486356249, 39.49820946306285]}, 'id': '7', 'properties': {}}, {'type': 'Feature', 'geometry': {'type': 'Point', 'coordinates': [-123.62506950778328, 39.198797282667634]}, 'id': '8', 'properties': {}}, {'type': 'Feature', 'geometry': {'type': 'Point', 'coordinates': [-122.89505665429989, 39.462108233064995]}, 'id': '9', 'properties': {}}]}\n",
      "FeatureCollection from a list of features: {'type': 'FeatureCollection', 'columns': {'system:index': 'String'}, 'features': [{'type': 'Feature', 'geometry': {'type': 'Point', 'coordinates': [-121.64620000000001, 39.957]}, 'id': '0', 'properties': {}}, {'type': 'Feature', 'geometry': {'type': 'Point', 'coordinates': [-121.6542, 39.949]}, 'id': '1', 'properties': {}}, {'type': 'Feature', 'geometry': {'type': 'Point', 'coordinates': [-121.6652, 39.967999999999996]}, 'id': '2', 'properties': {}}]}\n"
     ]
    },
    {
     "data": {
      "application/vnd.jupyter.widget-view+json": {
       "model_id": "e0200f857e354dada3a347d5b5eb4f8a",
       "version_major": 2,
       "version_minor": 0
      },
      "text/plain": [
       "Map(center=[39.976, -121.6252], controls=(WidgetControl(options=['position', 'transparent_bg'], widget=HBox(ch…"
      ]
     },
     "execution_count": 55,
     "metadata": {},
     "output_type": "execute_result"
    }
   ],
   "source": [
    "import geemap\n",
    "import ee\n",
    "\n",
    "ee.Initialize()\n",
    "\n",
    "#aoi = ee.Geometry(Point([-48.4, -23]))\n",
    "\n",
    "fire = ee.ImageCollection('MODIS/006/MCD64A1').filter(ee.Filter.date('2018-01-01', '2020-12-31'))\n",
    "\n",
    "burnedArea = fire.select('BurnDate')\n",
    "burnedAreaVis = {\n",
    "  'min': 30.0,\n",
    "  'max': 341.0,\n",
    "  'opacity': 0.5,\n",
    "  'palette': ['4e0400', '951003', 'c61503', 'ff1901'],\n",
    "}\n",
    "\n",
    "img = fire.first()\n",
    "cld = fire.first()\n",
    "\n",
    "Map = geemap.Map(center=(39.9760,-121.6252), zoom=12)\n",
    "#Map.addLayer(cld, {'min': 0, 'max': 100, 'palette': ['purple', 'yellow']}, 'Cloud Probability', True, 1)\n",
    "# point1 = ee.Geometry.Point([-121.6252,39.9760])\n",
    "# Map.addLayer(point1, {'color': 'eb0000', 'width': 5}, 'Point')\n",
    "# point2 = ee.Geometry.Point([-121.6252,39.9780])\n",
    "# Map.addLayer(point2, {'color': '1c5f2c', 'width': 10}, 'Point')\n",
    "# points = ee.FeatureCollection.([[-121.082, 39.9760], [-121.6252, 39.9790]]);\n",
    "# Map.addLayer(multiPoint,\n",
    "#              {'color': 'black'},\n",
    "#              'Geometry [black]: multiPoint');\n",
    "Map.addLayer(burnedArea, burnedAreaVis, 'Burned Area')\n",
    "# FeatureCollection from a list of features.\n",
    "# list_fire = [\n",
    "#     ee.Feature(ee.Geometry.Point(-121.6162 + .3, 39.9870 - .1)),\n",
    "#     ee.Feature(ee.Geometry.Point(-121.6242 + .3, 39.9790 - .1)),\n",
    "#     ee.Feature(ee.Geometry.Point(-121.6352 + .3, 39.9980 - .1))\n",
    "# ]\n",
    "list_fire = [\n",
    "    ee.Feature(ee.Geometry.Point(coord)) for coord in coords\n",
    "]\n",
    "list_of_fire_fc = ee.FeatureCollection(list_fire)\n",
    "print('FeatureCollection from a list of features:',\n",
    "      list_of_fire_fc.getInfo())\n",
    "Map.addLayer(list_of_fire_fc, {'color':'red', 'pointSize': 3, 'width': 10})\n",
    "list_nofire = [\n",
    "    ee.Feature(ee.Geometry.Point(-121.6162 -.03, 39.9870 -.03)),\n",
    "    ee.Feature(ee.Geometry.Point(-121.6242 -.03, 39.9790 -.03)),\n",
    "    ee.Feature(ee.Geometry.Point(-121.6352 -.03, 39.9980 -.03))\n",
    "]\n",
    "list_of_nofire_fc = ee.FeatureCollection(list_nofire)\n",
    "print('FeatureCollection from a list of features:',\n",
    "      list_of_nofire_fc.getInfo())\n",
    "Map.addLayer(list_of_nofire_fc, {'color':'green', 'pointSize': 2, 'width': 10})\n",
    "Map"
   ]
  },
  {
   "cell_type": "code",
   "execution_count": 51,
   "id": "123561b7-17d1-4f4d-ab2f-23fe2e0f8c58",
   "metadata": {
    "collapsed": true,
    "jupyter": {
     "outputs_hidden": true
    },
    "tags": []
   },
   "outputs": [
    {
     "data": {
      "text/plain": [
       "[<ee.feature.Feature at 0x7f9bc1f04c40>,\n",
       " <ee.feature.Feature at 0x7f9bc1f04640>,\n",
       " <ee.feature.Feature at 0x7f9bc2a75c40>]"
      ]
     },
     "execution_count": 51,
     "metadata": {},
     "output_type": "execute_result"
    }
   ],
   "source": [
    "list_nofire"
   ]
  },
  {
   "cell_type": "code",
   "execution_count": 53,
   "id": "8542f8be-d60e-41ce-8bc0-ca5cf16c8fe5",
   "metadata": {
    "tags": []
   },
   "outputs": [
    {
     "data": {
      "text/html": [
       "<div><style>:root {\n",
       "  --font-color-primary: var(--jp-content-font-color0, rgba(0, 0, 0, 1));\n",
       "  --font-color-secondary: var(--jp-content-font-color2, rgba(0, 0, 0, 0.6));\n",
       "  --font-color-accent: rgba(123, 31, 162, 1);\n",
       "  --border-color: var(--jp-border-color2, #e0e0e0);\n",
       "  --background-color: var(--jp-layout-color0, white);\n",
       "  --background-color-row-even: var(--jp-layout-color1, white);\n",
       "  --background-color-row-odd: var(--jp-layout-color2, #eeeeee);\n",
       "}\n",
       "\n",
       "html[theme=\"dark\"],\n",
       "body[data-theme=\"dark\"],\n",
       "body.vscode-dark {\n",
       "  --font-color-primary: rgba(255, 255, 255, 1);\n",
       "  --font-color-secondary: rgba(255, 255, 255, 0.6);\n",
       "  --font-color-accent: rgb(173, 132, 190);\n",
       "  --border-color: #2e2e2e;\n",
       "  --background-color: #111111;\n",
       "  --background-color-row-even: #111111;\n",
       "  --background-color-row-odd: #313131;\n",
       "}\n",
       "\n",
       ".ee {\n",
       "  padding: 1em;\n",
       "  line-height: 1.5em;\n",
       "  min-width: 300px;\n",
       "  max-width: 1200px;\n",
       "  overflow-y: scroll;\n",
       "  max-height: 600px;\n",
       "  border: 1px solid var(--border-color);\n",
       "  font-family: monospace;\n",
       "}\n",
       "\n",
       ".ee li {\n",
       "  list-style-type: none;\n",
       "}\n",
       "\n",
       ".ee ul {\n",
       "  padding-left: 1.5em !important;\n",
       "  margin: 0;\n",
       "}\n",
       "\n",
       ".ee > ul {\n",
       "  padding-left: 0 !important;\n",
       "}\n",
       "\n",
       ".ee-open,\n",
       ".ee-shut {\n",
       "  color: var(--font-color-secondary);\n",
       "  cursor: pointer;\n",
       "  margin: 0;\n",
       "}\n",
       "\n",
       ".ee-open:hover,\n",
       ".ee-shut:hover {\n",
       "  color: var(--font-color-primary);\n",
       "}\n",
       "\n",
       ".ee-k {\n",
       "  color: var(--font-color-accent);\n",
       "  margin-right: 6px;\n",
       "}\n",
       "\n",
       ".ee-v {\n",
       "  color: var(--font-color-primary);\n",
       "}\n",
       "\n",
       ".ee-toggle {\n",
       "  display: none;\n",
       "}\n",
       "\n",
       ".ee-shut + ul {\n",
       "  display: none;\n",
       "}\n",
       "\n",
       ".ee-open + ul {\n",
       "  display: block;\n",
       "}\n",
       "\n",
       ".ee-shut::before {\n",
       "  display: inline-block;\n",
       "  content: \"▼\";\n",
       "  margin-right: 6px;\n",
       "  transform: rotate(-90deg);\n",
       "  transition: transform 0.2s;\n",
       "}\n",
       "\n",
       ".ee-open::before {\n",
       "  transform: rotate(0deg);\n",
       "  display: inline-block;\n",
       "  content: \"▼\";\n",
       "  margin-right: 6px;\n",
       "  transition: transform 0.2s;\n",
       "}\n",
       "</style><div class='ee'><ul><li><label class='ee-shut'>FeatureCollection (10 elements, 1 column)<input type='checkbox' class='ee-toggle'></label><ul><li><span class='ee-k'>type:</span><span class='ee-v'>FeatureCollection</span></li><li><label class='ee-shut'>columns: Object (1 property)<input type='checkbox' class='ee-toggle'></label><ul><li><span class='ee-k'>system:index:</span><span class='ee-v'>String</span></li></ul></li><li><label class='ee-shut'>features: List (10 elements)<input type='checkbox' class='ee-toggle'></label><ul><li><label class='ee-shut'>0: Feature (Point, 0 properties)<input type='checkbox' class='ee-toggle'></label><ul><li><span class='ee-k'>type:</span><span class='ee-v'>Feature</span></li><li><span class='ee-k'>id:</span><span class='ee-v'>0</span></li><li><label class='ee-shut'>geometry: Point (39.45, -123.48)<input type='checkbox' class='ee-toggle'></label><ul><li><span class='ee-k'>type:</span><span class='ee-v'>Point</span></li><li><label class='ee-shut'>coordinates: [39.45154742623217, -123.47738488543519]<input type='checkbox' class='ee-toggle'></label><ul><li><span class='ee-k'>0:</span><span class='ee-v'>39.45154742623217</span></li><li><span class='ee-k'>1:</span><span class='ee-v'>-123.47738488543519</span></li></ul></li></ul></li><li><label class='ee-shut'>properties: Object (0 properties)<input type='checkbox' class='ee-toggle'></label><ul></ul></li></ul></li><li><label class='ee-shut'>1: Feature (Point, 0 properties)<input type='checkbox' class='ee-toggle'></label><ul><li><span class='ee-k'>type:</span><span class='ee-v'>Feature</span></li><li><span class='ee-k'>id:</span><span class='ee-v'>1</span></li><li><label class='ee-shut'>geometry: Point (39.69, -122.27)<input type='checkbox' class='ee-toggle'></label><ul><li><span class='ee-k'>type:</span><span class='ee-v'>Point</span></li><li><label class='ee-shut'>coordinates: [39.6908224517026, -122.26913992691512]<input type='checkbox' class='ee-toggle'></label><ul><li><span class='ee-k'>0:</span><span class='ee-v'>39.6908224517026</span></li><li><span class='ee-k'>1:</span><span class='ee-v'>-122.26913992691512</span></li></ul></li></ul></li><li><label class='ee-shut'>properties: Object (0 properties)<input type='checkbox' class='ee-toggle'></label><ul></ul></li></ul></li><li><label class='ee-shut'>2: Feature (Point, 0 properties)<input type='checkbox' class='ee-toggle'></label><ul><li><span class='ee-k'>type:</span><span class='ee-v'>Feature</span></li><li><span class='ee-k'>id:</span><span class='ee-v'>2</span></li><li><label class='ee-shut'>geometry: Point (39.18, -123.53)<input type='checkbox' class='ee-toggle'></label><ul><li><span class='ee-k'>type:</span><span class='ee-v'>Point</span></li><li><label class='ee-shut'>coordinates: [39.178801752278424, -123.53302526896096]<input type='checkbox' class='ee-toggle'></label><ul><li><span class='ee-k'>0:</span><span class='ee-v'>39.178801752278424</span></li><li><span class='ee-k'>1:</span><span class='ee-v'>-123.53302526896096</span></li></ul></li></ul></li><li><label class='ee-shut'>properties: Object (0 properties)<input type='checkbox' class='ee-toggle'></label><ul></ul></li></ul></li><li><label class='ee-shut'>3: Feature (Point, 0 properties)<input type='checkbox' class='ee-toggle'></label><ul><li><span class='ee-k'>type:</span><span class='ee-v'>Feature</span></li><li><span class='ee-k'>id:</span><span class='ee-v'>3</span></li><li><label class='ee-shut'>geometry: Point (40.25, -123.27)<input type='checkbox' class='ee-toggle'></label><ul><li><span class='ee-k'>type:</span><span class='ee-v'>Point</span></li><li><label class='ee-shut'>coordinates: [40.2480707699707, -123.27359900871406]<input type='checkbox' class='ee-toggle'></label><ul><li><span class='ee-k'>0:</span><span class='ee-v'>40.2480707699707</span></li><li><span class='ee-k'>1:</span><span class='ee-v'>-123.27359900871406</span></li></ul></li></ul></li><li><label class='ee-shut'>properties: Object (0 properties)<input type='checkbox' class='ee-toggle'></label><ul></ul></li></ul></li><li><label class='ee-shut'>4: Feature (Point, 0 properties)<input type='checkbox' class='ee-toggle'></label><ul><li><span class='ee-k'>type:</span><span class='ee-v'>Feature</span></li><li><span class='ee-k'>id:</span><span class='ee-v'>4</span></li><li><label class='ee-shut'>geometry: Point (39.83, -122.35)<input type='checkbox' class='ee-toggle'></label><ul><li><span class='ee-k'>type:</span><span class='ee-v'>Point</span></li><li><label class='ee-shut'>coordinates: [39.8339244815351, -122.34506866851315]<input type='checkbox' class='ee-toggle'></label><ul><li><span class='ee-k'>0:</span><span class='ee-v'>39.8339244815351</span></li><li><span class='ee-k'>1:</span><span class='ee-v'>-122.34506866851315</span></li></ul></li></ul></li><li><label class='ee-shut'>properties: Object (0 properties)<input type='checkbox' class='ee-toggle'></label><ul></ul></li></ul></li><li><label class='ee-shut'>5: Feature (Point, 0 properties)<input type='checkbox' class='ee-toggle'></label><ul><li><span class='ee-k'>type:</span><span class='ee-v'>Feature</span></li><li><span class='ee-k'>id:</span><span class='ee-v'>5</span></li><li><label class='ee-shut'>geometry: Point (40.00, -122.72)<input type='checkbox' class='ee-toggle'></label><ul><li><span class='ee-k'>type:</span><span class='ee-v'>Point</span></li><li><label class='ee-shut'>coordinates: [39.99951172623591, -122.71500156374074]<input type='checkbox' class='ee-toggle'></label><ul><li><span class='ee-k'>0:</span><span class='ee-v'>39.99951172623591</span></li><li><span class='ee-k'>1:</span><span class='ee-v'>-122.71500156374074</span></li></ul></li></ul></li><li><label class='ee-shut'>properties: Object (0 properties)<input type='checkbox' class='ee-toggle'></label><ul></ul></li></ul></li><li><label class='ee-shut'>6: Feature (Point, 0 properties)<input type='checkbox' class='ee-toggle'></label><ul><li><span class='ee-k'>type:</span><span class='ee-v'>Feature</span></li><li><span class='ee-k'>id:</span><span class='ee-v'>6</span></li><li><label class='ee-shut'>geometry: Point (39.54, -123.55)<input type='checkbox' class='ee-toggle'></label><ul><li><span class='ee-k'>type:</span><span class='ee-v'>Point</span></li><li><label class='ee-shut'>coordinates: [39.54359844746836, -123.55382915160448]<input type='checkbox' class='ee-toggle'></label><ul><li><span class='ee-k'>0:</span><span class='ee-v'>39.54359844746836</span></li><li><span class='ee-k'>1:</span><span class='ee-v'>-123.55382915160448</span></li></ul></li></ul></li><li><label class='ee-shut'>properties: Object (0 properties)<input type='checkbox' class='ee-toggle'></label><ul></ul></li></ul></li><li><label class='ee-shut'>7: Feature (Point, 0 properties)<input type='checkbox' class='ee-toggle'></label><ul><li><span class='ee-k'>type:</span><span class='ee-v'>Feature</span></li><li><span class='ee-k'>id:</span><span class='ee-v'>7</span></li><li><label class='ee-shut'>geometry: Point (39.61, -123.78)<input type='checkbox' class='ee-toggle'></label><ul><li><span class='ee-k'>type:</span><span class='ee-v'>Point</span></li><li><label class='ee-shut'>coordinates: [39.61347211661728, -123.77541880496494]<input type='checkbox' class='ee-toggle'></label><ul><li><span class='ee-k'>0:</span><span class='ee-v'>39.61347211661728</span></li><li><span class='ee-k'>1:</span><span class='ee-v'>-123.77541880496494</span></li></ul></li></ul></li><li><label class='ee-shut'>properties: Object (0 properties)<input type='checkbox' class='ee-toggle'></label><ul></ul></li></ul></li><li><label class='ee-shut'>8: Feature (Point, 0 properties)<input type='checkbox' class='ee-toggle'></label><ul><li><span class='ee-k'>type:</span><span class='ee-v'>Feature</span></li><li><span class='ee-k'>id:</span><span class='ee-v'>8</span></li><li><label class='ee-shut'>geometry: Point (39.96, -123.47)<input type='checkbox' class='ee-toggle'></label><ul><li><span class='ee-k'>type:</span><span class='ee-v'>Point</span></li><li><label class='ee-shut'>coordinates: [39.96388071654982, -123.46656895040066]<input type='checkbox' class='ee-toggle'></label><ul><li><span class='ee-k'>0:</span><span class='ee-v'>39.96388071654982</span></li><li><span class='ee-k'>1:</span><span class='ee-v'>-123.46656895040066</span></li></ul></li></ul></li><li><label class='ee-shut'>properties: Object (0 properties)<input type='checkbox' class='ee-toggle'></label><ul></ul></li></ul></li><li><label class='ee-shut'>9: Feature (Point, 0 properties)<input type='checkbox' class='ee-toggle'></label><ul><li><span class='ee-k'>type:</span><span class='ee-v'>Feature</span></li><li><span class='ee-k'>id:</span><span class='ee-v'>9</span></li><li><label class='ee-shut'>geometry: Point (39.42, -122.70)<input type='checkbox' class='ee-toggle'></label><ul><li><span class='ee-k'>type:</span><span class='ee-v'>Point</span></li><li><label class='ee-shut'>coordinates: [39.41852128732399, -122.70118645189604]<input type='checkbox' class='ee-toggle'></label><ul><li><span class='ee-k'>0:</span><span class='ee-v'>39.41852128732399</span></li><li><span class='ee-k'>1:</span><span class='ee-v'>-122.70118645189604</span></li></ul></li></ul></li><li><label class='ee-shut'>properties: Object (0 properties)<input type='checkbox' class='ee-toggle'></label><ul></ul></li></ul></li></ul></li></ul></li></ul></div><script>function toggleHeader() {\n",
       "    const parent = this.parentElement;\n",
       "    parent.className = parent.className === \"ee-open\" ? \"ee-shut\" : \"ee-open\";\n",
       "}\n",
       "\n",
       "for (let c of document.getElementsByClassName(\"ee-toggle\")) {\n",
       "    c.onclick = toggleHeader;\n",
       "}</script></div>"
      ],
      "text/plain": [
       "<ee.featurecollection.FeatureCollection at 0x7f9bc1f1ab50>"
      ]
     },
     "execution_count": 53,
     "metadata": {},
     "output_type": "execute_result"
    }
   ],
   "source": [
    "list_of_fire_fc"
   ]
  },
  {
   "cell_type": "code",
   "execution_count": 5,
   "id": "32b26c79",
   "metadata": {
    "ExecuteTime": {
     "end_time": "2023-06-16T16:23:14.401039Z",
     "start_time": "2023-06-16T16:23:13.199440Z"
    }
   },
   "outputs": [
    {
     "data": {
      "text/html": [
       "<div><style>:root {\n",
       "  --font-color-primary: var(--jp-content-font-color0, rgba(0, 0, 0, 1));\n",
       "  --font-color-secondary: var(--jp-content-font-color2, rgba(0, 0, 0, 0.6));\n",
       "  --font-color-accent: rgba(123, 31, 162, 1);\n",
       "  --border-color: var(--jp-border-color2, #e0e0e0);\n",
       "  --background-color: var(--jp-layout-color0, white);\n",
       "  --background-color-row-even: var(--jp-layout-color1, white);\n",
       "  --background-color-row-odd: var(--jp-layout-color2, #eeeeee);\n",
       "}\n",
       "\n",
       "html[theme=\"dark\"],\n",
       "body[data-theme=\"dark\"],\n",
       "body.vscode-dark {\n",
       "  --font-color-primary: rgba(255, 255, 255, 1);\n",
       "  --font-color-secondary: rgba(255, 255, 255, 0.6);\n",
       "  --font-color-accent: rgb(173, 132, 190);\n",
       "  --border-color: #2e2e2e;\n",
       "  --background-color: #111111;\n",
       "  --background-color-row-even: #111111;\n",
       "  --background-color-row-odd: #313131;\n",
       "}\n",
       "\n",
       ".ee {\n",
       "  padding: 1em;\n",
       "  line-height: 1.5em;\n",
       "  min-width: 300px;\n",
       "  max-width: 1200px;\n",
       "  overflow-y: scroll;\n",
       "  max-height: 600px;\n",
       "  border: 1px solid var(--border-color);\n",
       "  font-family: monospace;\n",
       "}\n",
       "\n",
       ".ee li {\n",
       "  list-style-type: none;\n",
       "}\n",
       "\n",
       ".ee ul {\n",
       "  padding-left: 1.5em !important;\n",
       "  margin: 0;\n",
       "}\n",
       "\n",
       ".ee > ul {\n",
       "  padding-left: 0 !important;\n",
       "}\n",
       "\n",
       ".ee-open,\n",
       ".ee-shut {\n",
       "  color: var(--font-color-secondary);\n",
       "  cursor: pointer;\n",
       "  margin: 0;\n",
       "}\n",
       "\n",
       ".ee-open:hover,\n",
       ".ee-shut:hover {\n",
       "  color: var(--font-color-primary);\n",
       "}\n",
       "\n",
       ".ee-k {\n",
       "  color: var(--font-color-accent);\n",
       "  margin-right: 6px;\n",
       "}\n",
       "\n",
       ".ee-v {\n",
       "  color: var(--font-color-primary);\n",
       "}\n",
       "\n",
       ".ee-toggle {\n",
       "  display: none;\n",
       "}\n",
       "\n",
       ".ee-shut + ul {\n",
       "  display: none;\n",
       "}\n",
       "\n",
       ".ee-open + ul {\n",
       "  display: block;\n",
       "}\n",
       "\n",
       ".ee-shut::before {\n",
       "  display: inline-block;\n",
       "  content: \"▼\";\n",
       "  margin-right: 6px;\n",
       "  transform: rotate(-90deg);\n",
       "  transition: transform 0.2s;\n",
       "}\n",
       "\n",
       ".ee-open::before {\n",
       "  transform: rotate(0deg);\n",
       "  display: inline-block;\n",
       "  content: \"▼\";\n",
       "  margin-right: 6px;\n",
       "  transition: transform 0.2s;\n",
       "}\n",
       "</style><div class='ee'><ul><li><label class='ee-shut'>Image MODIS/006/MCD64A1/2018_01_01 (5 bands)<input type='checkbox' class='ee-toggle'></label><ul><li><span class='ee-k'>type:</span><span class='ee-v'>Image</span></li><li><span class='ee-k'>id:</span><span class='ee-v'>MODIS/006/MCD64A1/2018_01_01</span></li><li><span class='ee-k'>version:</span><span class='ee-v'>1638765769882405</span></li><li><label class='ee-shut'>bands: List (5 elements)<input type='checkbox' class='ee-toggle'></label><ul><li><label class='ee-shut'>0: \"BurnDate\", signed int16, SR-ORG:6974, 86400x43200 px<input type='checkbox' class='ee-toggle'></label><ul><li><span class='ee-k'>id:</span><span class='ee-v'>BurnDate</span></li><li><span class='ee-k'>crs:</span><span class='ee-v'>SR-ORG:6974</span></li><li><label class='ee-shut'>crs_transform: List (6 elements)<input type='checkbox' class='ee-toggle'></label><ul><li><span class='ee-k'>0:</span><span class='ee-v'>463.312716528</span></li><li><span class='ee-k'>1:</span><span class='ee-v'>0</span></li><li><span class='ee-k'>2:</span><span class='ee-v'>-20015109.354</span></li><li><span class='ee-k'>3:</span><span class='ee-v'>0</span></li><li><span class='ee-k'>4:</span><span class='ee-v'>-463.312716527</span></li><li><span class='ee-k'>5:</span><span class='ee-v'>10007554.677</span></li></ul></li><li><label class='ee-shut'>data_type: signed int16<input type='checkbox' class='ee-toggle'></label><ul><li><span class='ee-k'>type:</span><span class='ee-v'>PixelType</span></li><li><span class='ee-k'>max:</span><span class='ee-v'>32767</span></li><li><span class='ee-k'>min:</span><span class='ee-v'>-32768</span></li><li><span class='ee-k'>precision:</span><span class='ee-v'>int</span></li></ul></li><li><label class='ee-shut'>dimensions: [86400, 43200]<input type='checkbox' class='ee-toggle'></label><ul><li><span class='ee-k'>0:</span><span class='ee-v'>86400</span></li><li><span class='ee-k'>1:</span><span class='ee-v'>43200</span></li></ul></li></ul></li><li><label class='ee-shut'>1: \"Uncertainty\", unsigned int8, SR-ORG:6974, 86400x43200 px<input type='checkbox' class='ee-toggle'></label><ul><li><span class='ee-k'>id:</span><span class='ee-v'>Uncertainty</span></li><li><span class='ee-k'>crs:</span><span class='ee-v'>SR-ORG:6974</span></li><li><label class='ee-shut'>crs_transform: List (6 elements)<input type='checkbox' class='ee-toggle'></label><ul><li><span class='ee-k'>0:</span><span class='ee-v'>463.312716528</span></li><li><span class='ee-k'>1:</span><span class='ee-v'>0</span></li><li><span class='ee-k'>2:</span><span class='ee-v'>-20015109.354</span></li><li><span class='ee-k'>3:</span><span class='ee-v'>0</span></li><li><span class='ee-k'>4:</span><span class='ee-v'>-463.312716527</span></li><li><span class='ee-k'>5:</span><span class='ee-v'>10007554.677</span></li></ul></li><li><label class='ee-shut'>data_type: unsigned int8<input type='checkbox' class='ee-toggle'></label><ul><li><span class='ee-k'>type:</span><span class='ee-v'>PixelType</span></li><li><span class='ee-k'>max:</span><span class='ee-v'>255</span></li><li><span class='ee-k'>min:</span><span class='ee-v'>0</span></li><li><span class='ee-k'>precision:</span><span class='ee-v'>int</span></li></ul></li><li><label class='ee-shut'>dimensions: [86400, 43200]<input type='checkbox' class='ee-toggle'></label><ul><li><span class='ee-k'>0:</span><span class='ee-v'>86400</span></li><li><span class='ee-k'>1:</span><span class='ee-v'>43200</span></li></ul></li></ul></li><li><label class='ee-shut'>2: \"QA\", unsigned int8, SR-ORG:6974, 86400x43200 px<input type='checkbox' class='ee-toggle'></label><ul><li><span class='ee-k'>id:</span><span class='ee-v'>QA</span></li><li><span class='ee-k'>crs:</span><span class='ee-v'>SR-ORG:6974</span></li><li><label class='ee-shut'>crs_transform: List (6 elements)<input type='checkbox' class='ee-toggle'></label><ul><li><span class='ee-k'>0:</span><span class='ee-v'>463.312716528</span></li><li><span class='ee-k'>1:</span><span class='ee-v'>0</span></li><li><span class='ee-k'>2:</span><span class='ee-v'>-20015109.354</span></li><li><span class='ee-k'>3:</span><span class='ee-v'>0</span></li><li><span class='ee-k'>4:</span><span class='ee-v'>-463.312716527</span></li><li><span class='ee-k'>5:</span><span class='ee-v'>10007554.677</span></li></ul></li><li><label class='ee-shut'>data_type: unsigned int8<input type='checkbox' class='ee-toggle'></label><ul><li><span class='ee-k'>type:</span><span class='ee-v'>PixelType</span></li><li><span class='ee-k'>max:</span><span class='ee-v'>255</span></li><li><span class='ee-k'>min:</span><span class='ee-v'>0</span></li><li><span class='ee-k'>precision:</span><span class='ee-v'>int</span></li></ul></li><li><label class='ee-shut'>dimensions: [86400, 43200]<input type='checkbox' class='ee-toggle'></label><ul><li><span class='ee-k'>0:</span><span class='ee-v'>86400</span></li><li><span class='ee-k'>1:</span><span class='ee-v'>43200</span></li></ul></li></ul></li><li><label class='ee-shut'>3: \"FirstDay\", signed int16, SR-ORG:6974, 86400x43200 px<input type='checkbox' class='ee-toggle'></label><ul><li><span class='ee-k'>id:</span><span class='ee-v'>FirstDay</span></li><li><span class='ee-k'>crs:</span><span class='ee-v'>SR-ORG:6974</span></li><li><label class='ee-shut'>crs_transform: List (6 elements)<input type='checkbox' class='ee-toggle'></label><ul><li><span class='ee-k'>0:</span><span class='ee-v'>463.312716528</span></li><li><span class='ee-k'>1:</span><span class='ee-v'>0</span></li><li><span class='ee-k'>2:</span><span class='ee-v'>-20015109.354</span></li><li><span class='ee-k'>3:</span><span class='ee-v'>0</span></li><li><span class='ee-k'>4:</span><span class='ee-v'>-463.312716527</span></li><li><span class='ee-k'>5:</span><span class='ee-v'>10007554.677</span></li></ul></li><li><label class='ee-shut'>data_type: signed int16<input type='checkbox' class='ee-toggle'></label><ul><li><span class='ee-k'>type:</span><span class='ee-v'>PixelType</span></li><li><span class='ee-k'>max:</span><span class='ee-v'>32767</span></li><li><span class='ee-k'>min:</span><span class='ee-v'>-32768</span></li><li><span class='ee-k'>precision:</span><span class='ee-v'>int</span></li></ul></li><li><label class='ee-shut'>dimensions: [86400, 43200]<input type='checkbox' class='ee-toggle'></label><ul><li><span class='ee-k'>0:</span><span class='ee-v'>86400</span></li><li><span class='ee-k'>1:</span><span class='ee-v'>43200</span></li></ul></li></ul></li><li><label class='ee-shut'>4: \"LastDay\", signed int16, SR-ORG:6974, 86400x43200 px<input type='checkbox' class='ee-toggle'></label><ul><li><span class='ee-k'>id:</span><span class='ee-v'>LastDay</span></li><li><span class='ee-k'>crs:</span><span class='ee-v'>SR-ORG:6974</span></li><li><label class='ee-shut'>crs_transform: List (6 elements)<input type='checkbox' class='ee-toggle'></label><ul><li><span class='ee-k'>0:</span><span class='ee-v'>463.312716528</span></li><li><span class='ee-k'>1:</span><span class='ee-v'>0</span></li><li><span class='ee-k'>2:</span><span class='ee-v'>-20015109.354</span></li><li><span class='ee-k'>3:</span><span class='ee-v'>0</span></li><li><span class='ee-k'>4:</span><span class='ee-v'>-463.312716527</span></li><li><span class='ee-k'>5:</span><span class='ee-v'>10007554.677</span></li></ul></li><li><label class='ee-shut'>data_type: signed int16<input type='checkbox' class='ee-toggle'></label><ul><li><span class='ee-k'>type:</span><span class='ee-v'>PixelType</span></li><li><span class='ee-k'>max:</span><span class='ee-v'>32767</span></li><li><span class='ee-k'>min:</span><span class='ee-v'>-32768</span></li><li><span class='ee-k'>precision:</span><span class='ee-v'>int</span></li></ul></li><li><label class='ee-shut'>dimensions: [86400, 43200]<input type='checkbox' class='ee-toggle'></label><ul><li><span class='ee-k'>0:</span><span class='ee-v'>86400</span></li><li><span class='ee-k'>1:</span><span class='ee-v'>43200</span></li></ul></li></ul></li></ul></li><li><label class='ee-shut'>properties: Object (6 properties)<input type='checkbox' class='ee-toggle'></label><ul><li><span class='ee-k'>google:max_source_file_timestamp:</span><span class='ee-v'>1525106015941</span></li><li><span class='ee-k'>system:asset_size:</span><span class='ee-v'>242386366</span></li><li><label class='ee-shut'>system:footprint: LinearRing (5 vertices)<input type='checkbox' class='ee-toggle'></label><ul><li><span class='ee-k'>type:</span><span class='ee-v'>LinearRing</span></li><li><label class='ee-shut'>coordinates: List (5 elements)<input type='checkbox' class='ee-toggle'></label><ul><li><label class='ee-shut'>0: [-180, -90]<input type='checkbox' class='ee-toggle'></label><ul><li><span class='ee-k'>0:</span><span class='ee-v'>-180</span></li><li><span class='ee-k'>1:</span><span class='ee-v'>-90</span></li></ul></li><li><label class='ee-shut'>1: [180, -90]<input type='checkbox' class='ee-toggle'></label><ul><li><span class='ee-k'>0:</span><span class='ee-v'>180</span></li><li><span class='ee-k'>1:</span><span class='ee-v'>-90</span></li></ul></li><li><label class='ee-shut'>2: [180, 90]<input type='checkbox' class='ee-toggle'></label><ul><li><span class='ee-k'>0:</span><span class='ee-v'>180</span></li><li><span class='ee-k'>1:</span><span class='ee-v'>90</span></li></ul></li><li><label class='ee-shut'>3: [-180, 90]<input type='checkbox' class='ee-toggle'></label><ul><li><span class='ee-k'>0:</span><span class='ee-v'>-180</span></li><li><span class='ee-k'>1:</span><span class='ee-v'>90</span></li></ul></li><li><label class='ee-shut'>4: [-180, -90]<input type='checkbox' class='ee-toggle'></label><ul><li><span class='ee-k'>0:</span><span class='ee-v'>-180</span></li><li><span class='ee-k'>1:</span><span class='ee-v'>-90</span></li></ul></li></ul></li></ul></li><li><span class='ee-k'>system:index:</span><span class='ee-v'>2018_01_01</span></li><li><span class='ee-k'>system:time_end:</span><span class='ee-v'>1517356800000</span></li><li><span class='ee-k'>system:time_start:</span><span class='ee-v'>1514764800000</span></li></ul></li></ul></li></ul></div><script>function toggleHeader() {\n",
       "    const parent = this.parentElement;\n",
       "    parent.className = parent.className === \"ee-open\" ? \"ee-shut\" : \"ee-open\";\n",
       "}\n",
       "\n",
       "for (let c of document.getElementsByClassName(\"ee-toggle\")) {\n",
       "    c.onclick = toggleHeader;\n",
       "}</script></div>"
      ],
      "text/plain": [
       "<ee.image.Image at 0x7f52c47e3130>"
      ]
     },
     "execution_count": 5,
     "metadata": {},
     "output_type": "execute_result"
    }
   ],
   "source": [
    "fire.first()"
   ]
  },
  {
   "cell_type": "code",
   "execution_count": null,
   "id": "6a36567d-e776-45b5-b7af-24429d935dda",
   "metadata": {},
   "outputs": [],
   "source": []
  }
 ],
 "metadata": {
  "kernelspec": {
   "display_name": "gee",
   "language": "python",
   "name": "gee"
  },
  "language_info": {
   "codemirror_mode": {
    "name": "ipython",
    "version": 3
   },
   "file_extension": ".py",
   "mimetype": "text/x-python",
   "name": "python",
   "nbconvert_exporter": "python",
   "pygments_lexer": "ipython3",
   "version": "3.9.17"
  }
 },
 "nbformat": 4,
 "nbformat_minor": 5
}
