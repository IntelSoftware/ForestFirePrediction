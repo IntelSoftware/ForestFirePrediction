{
 "cells": [
  {
   "cell_type": "markdown",
   "id": "b25e0fd8-209a-4daa-8d8c-7387c08ae4f6",
   "metadata": {},
   "source": [
    "# Remove Augmented Records\n",
    "\n",
    "Remove augmented files - signature is Fire_040.png or NoFire_013.png and removes those not conforming to this pattern"
   ]
  },
  {
   "cell_type": "code",
   "execution_count": 3,
   "id": "66bb64e7-cc38-4ea8-8022-ffe8f7e8997a",
   "metadata": {},
   "outputs": [
    {
     "name": "stdout",
     "output_type": "stream",
     "text": [
      "train/Fire/ set\n",
      "train/NoFire/ set\n",
      "val/Fire/ set\n",
      "val/NoFire/ set\n",
      "done\n"
     ]
    }
   ],
   "source": [
    "from PIL import Image\n",
    "import os\n",
    "import glob\n",
    "\n",
    "FireList = []\n",
    "NoFireList = []\n",
    "\n",
    "for fld in ['train/Fire/', 'train/NoFire/', 'val/Fire/', 'val/NoFire/']:\n",
    "    fldrIn = f\"data/shift/{fld}\"\n",
    "    for fn in glob.glob(fldrIn+\"*.png\"):\n",
    "        tmp = fn.split('Fire_')[-1]\n",
    "        if (len(tmp) > 7):\n",
    "            print(\"removing...\", fn)\n",
    "            os.remove(fn)\n",
    "    print(f\"{fld} set\")\n",
    "\n",
    "\n",
    "print(\"done\")\n"
   ]
  },
  {
   "cell_type": "markdown",
   "id": "29c83c54-0461-4f17-afd4-0bc4aa860b23",
   "metadata": {},
   "source": [
    "# Augmented files are listed"
   ]
  },
  {
   "cell_type": "code",
   "execution_count": 4,
   "id": "cf843316-4b17-4efb-ab1c-05e596d98d50",
   "metadata": {},
   "outputs": [
    {
     "name": "stdout",
     "output_type": "stream",
     "text": [
      "train/Fire/ set\n",
      "train/NoFire/ set\n",
      "val/Fire/ set\n",
      "val/NoFire/ set\n"
     ]
    }
   ],
   "source": [
    "for fld in ['train/Fire/', 'train/NoFire/', 'val/Fire/', 'val/NoFire/']:\n",
    "    fldrIn = f\"dataold/output/{fld}\"\n",
    "    for fn in glob.glob(fldrIn+\"*.png\"):\n",
    "        tmp = fn.split('Fire_')[-1]\n",
    "        if (len(tmp) > 8):\n",
    "            print(\"Augmented are ...\", fn)\n",
    "    print(f\"{fld} set\")"
   ]
  },
  {
   "cell_type": "code",
   "execution_count": null,
   "id": "0e2a06c3-43c9-47f8-a42e-f5bbb9d09eca",
   "metadata": {},
   "outputs": [],
   "source": []
  }
 ],
 "metadata": {
  "kernelspec": {
   "display_name": "Python 3 (ipykernel)",
   "language": "python",
   "name": "python3"
  },
  "language_info": {
   "codemirror_mode": {
    "name": "ipython",
    "version": 3
   },
   "file_extension": ".py",
   "mimetype": "text/x-python",
   "name": "python",
   "nbconvert_exporter": "python",
   "pygments_lexer": "ipython3",
   "version": "3.10.11"
  }
 },
 "nbformat": 4,
 "nbformat_minor": 5
}
